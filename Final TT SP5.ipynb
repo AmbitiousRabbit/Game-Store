{
 "cells": [
  {
   "cell_type": "markdown",
   "metadata": {},
   "source": [
    "# Introduction\n",
    "\n",
    "### State Objective Here:\n",
    "        Pinpoint any patterns that can potentially spot potential big winners so we can forcast 2017's\n",
    "        advertising campaign success.\n",
    "    \n",
    "### State Goals Here:\n",
    "        Transform the raw data into clean data\n",
    "        Narrow down and select a sensible time period that could answer 2017's advertising campaign\n",
    "        Analyze what platforms are the most (and least) profitable in regional and global sales\n",
    "        Also analyze what kind of influence does a genre (along with a user & critic score) have on sales\n",
    "    \n",
    "### Initial Questions:\n",
    "        Can we identify clear, different eras of video games played globally?\n",
    "        Which platforms are leading in sales? Which aren't?\n",
    "        What can be said for the most profitable genres and or platforms?"
   ]
  },
  {
   "cell_type": "markdown",
   "metadata": {},
   "source": [
    "# Loading the Library"
   ]
  },
  {
   "cell_type": "code",
   "execution_count": 1,
   "metadata": {},
   "outputs": [],
   "source": [
    "from matplotlib import pyplot as plt\n",
    "import numpy as np\n",
    "import math as mt\n",
    "import seaborn as sns\n",
    "from scipy import stats as st\n",
    "import pandas as pd"
   ]
  },
  {
   "cell_type": "markdown",
   "metadata": {},
   "source": [
    "# Loading the Dataset"
   ]
  },
  {
   "cell_type": "code",
   "execution_count": 2,
   "metadata": {},
   "outputs": [],
   "source": [
    "df = pd.read_csv('/datasets/games.csv')"
   ]
  },
  {
   "cell_type": "markdown",
   "metadata": {},
   "source": [
    "# Data Preprocessing - Fix & Enrich"
   ]
  },
  {
   "cell_type": "markdown",
   "metadata": {},
   "source": [
    "Initially, I explore the data's first few sample lines and took note of a few things (missing values, \"tbd\" filler value, headers) down below."
   ]
  },
  {
   "cell_type": "code",
   "execution_count": 3,
   "metadata": {},
   "outputs": [
    {
     "data": {
      "text/html": [
       "<div>\n",
       "<style scoped>\n",
       "    .dataframe tbody tr th:only-of-type {\n",
       "        vertical-align: middle;\n",
       "    }\n",
       "\n",
       "    .dataframe tbody tr th {\n",
       "        vertical-align: top;\n",
       "    }\n",
       "\n",
       "    .dataframe thead th {\n",
       "        text-align: right;\n",
       "    }\n",
       "</style>\n",
       "<table border=\"1\" class=\"dataframe\">\n",
       "  <thead>\n",
       "    <tr style=\"text-align: right;\">\n",
       "      <th></th>\n",
       "      <th>Name</th>\n",
       "      <th>Platform</th>\n",
       "      <th>Year_of_Release</th>\n",
       "      <th>Genre</th>\n",
       "      <th>NA_sales</th>\n",
       "      <th>EU_sales</th>\n",
       "      <th>JP_sales</th>\n",
       "      <th>Other_sales</th>\n",
       "      <th>Critic_Score</th>\n",
       "      <th>User_Score</th>\n",
       "      <th>Rating</th>\n",
       "    </tr>\n",
       "  </thead>\n",
       "  <tbody>\n",
       "    <tr>\n",
       "      <th>5788</th>\n",
       "      <td>SD Gundam G Generation: Overworld</td>\n",
       "      <td>PSP</td>\n",
       "      <td>2012.0</td>\n",
       "      <td>Strategy</td>\n",
       "      <td>0.00</td>\n",
       "      <td>0.00</td>\n",
       "      <td>0.31</td>\n",
       "      <td>0.00</td>\n",
       "      <td>NaN</td>\n",
       "      <td>NaN</td>\n",
       "      <td>NaN</td>\n",
       "    </tr>\n",
       "    <tr>\n",
       "      <th>11473</th>\n",
       "      <td>NBA 10: The Inside</td>\n",
       "      <td>PSP</td>\n",
       "      <td>2009.0</td>\n",
       "      <td>Sports</td>\n",
       "      <td>0.07</td>\n",
       "      <td>0.00</td>\n",
       "      <td>0.00</td>\n",
       "      <td>0.01</td>\n",
       "      <td>69.0</td>\n",
       "      <td>3</td>\n",
       "      <td>E</td>\n",
       "    </tr>\n",
       "    <tr>\n",
       "      <th>9901</th>\n",
       "      <td>Jaws: Ultimate Predator</td>\n",
       "      <td>3DS</td>\n",
       "      <td>2011.0</td>\n",
       "      <td>Action</td>\n",
       "      <td>0.11</td>\n",
       "      <td>0.00</td>\n",
       "      <td>0.00</td>\n",
       "      <td>0.01</td>\n",
       "      <td>NaN</td>\n",
       "      <td>tbd</td>\n",
       "      <td>M</td>\n",
       "    </tr>\n",
       "    <tr>\n",
       "      <th>14158</th>\n",
       "      <td>Marines: Modern Urban Combat</td>\n",
       "      <td>Wii</td>\n",
       "      <td>2010.0</td>\n",
       "      <td>Shooter</td>\n",
       "      <td>0.03</td>\n",
       "      <td>0.00</td>\n",
       "      <td>0.00</td>\n",
       "      <td>0.00</td>\n",
       "      <td>NaN</td>\n",
       "      <td>tbd</td>\n",
       "      <td>T</td>\n",
       "    </tr>\n",
       "    <tr>\n",
       "      <th>6041</th>\n",
       "      <td>Sakura Wars 4: Koi Seyo,Otome</td>\n",
       "      <td>DC</td>\n",
       "      <td>2002.0</td>\n",
       "      <td>Adventure</td>\n",
       "      <td>0.00</td>\n",
       "      <td>0.00</td>\n",
       "      <td>0.29</td>\n",
       "      <td>0.00</td>\n",
       "      <td>NaN</td>\n",
       "      <td>NaN</td>\n",
       "      <td>NaN</td>\n",
       "    </tr>\n",
       "    <tr>\n",
       "      <th>5773</th>\n",
       "      <td>Pandora's Tower</td>\n",
       "      <td>Wii</td>\n",
       "      <td>2011.0</td>\n",
       "      <td>Role-Playing</td>\n",
       "      <td>0.11</td>\n",
       "      <td>0.10</td>\n",
       "      <td>0.08</td>\n",
       "      <td>0.02</td>\n",
       "      <td>73.0</td>\n",
       "      <td>8</td>\n",
       "      <td>T</td>\n",
       "    </tr>\n",
       "    <tr>\n",
       "      <th>3787</th>\n",
       "      <td>X-Men Legends</td>\n",
       "      <td>GC</td>\n",
       "      <td>2004.0</td>\n",
       "      <td>Role-Playing</td>\n",
       "      <td>0.41</td>\n",
       "      <td>0.11</td>\n",
       "      <td>0.00</td>\n",
       "      <td>0.01</td>\n",
       "      <td>81.0</td>\n",
       "      <td>8.5</td>\n",
       "      <td>T</td>\n",
       "    </tr>\n",
       "    <tr>\n",
       "      <th>3145</th>\n",
       "      <td>Tom Clancy's Rainbow Six</td>\n",
       "      <td>N64</td>\n",
       "      <td>1999.0</td>\n",
       "      <td>Shooter</td>\n",
       "      <td>0.48</td>\n",
       "      <td>0.15</td>\n",
       "      <td>0.00</td>\n",
       "      <td>0.01</td>\n",
       "      <td>NaN</td>\n",
       "      <td>NaN</td>\n",
       "      <td>NaN</td>\n",
       "    </tr>\n",
       "    <tr>\n",
       "      <th>14848</th>\n",
       "      <td>Clannad</td>\n",
       "      <td>X360</td>\n",
       "      <td>2008.0</td>\n",
       "      <td>Adventure</td>\n",
       "      <td>0.00</td>\n",
       "      <td>0.00</td>\n",
       "      <td>0.03</td>\n",
       "      <td>0.00</td>\n",
       "      <td>NaN</td>\n",
       "      <td>NaN</td>\n",
       "      <td>NaN</td>\n",
       "    </tr>\n",
       "    <tr>\n",
       "      <th>11175</th>\n",
       "      <td>Digimon World 4</td>\n",
       "      <td>GC</td>\n",
       "      <td>2005.0</td>\n",
       "      <td>Role-Playing</td>\n",
       "      <td>0.07</td>\n",
       "      <td>0.02</td>\n",
       "      <td>0.00</td>\n",
       "      <td>0.00</td>\n",
       "      <td>55.0</td>\n",
       "      <td>8.1</td>\n",
       "      <td>E</td>\n",
       "    </tr>\n",
       "  </tbody>\n",
       "</table>\n",
       "</div>"
      ],
      "text/plain": [
       "                                    Name Platform  Year_of_Release  \\\n",
       "5788   SD Gundam G Generation: Overworld      PSP           2012.0   \n",
       "11473                 NBA 10: The Inside      PSP           2009.0   \n",
       "9901             Jaws: Ultimate Predator      3DS           2011.0   \n",
       "14158       Marines: Modern Urban Combat      Wii           2010.0   \n",
       "6041       Sakura Wars 4: Koi Seyo,Otome       DC           2002.0   \n",
       "5773                     Pandora's Tower      Wii           2011.0   \n",
       "3787                       X-Men Legends       GC           2004.0   \n",
       "3145            Tom Clancy's Rainbow Six      N64           1999.0   \n",
       "14848                            Clannad     X360           2008.0   \n",
       "11175                    Digimon World 4       GC           2005.0   \n",
       "\n",
       "              Genre  NA_sales  EU_sales  JP_sales  Other_sales  Critic_Score  \\\n",
       "5788       Strategy      0.00      0.00      0.31         0.00           NaN   \n",
       "11473        Sports      0.07      0.00      0.00         0.01          69.0   \n",
       "9901         Action      0.11      0.00      0.00         0.01           NaN   \n",
       "14158       Shooter      0.03      0.00      0.00         0.00           NaN   \n",
       "6041      Adventure      0.00      0.00      0.29         0.00           NaN   \n",
       "5773   Role-Playing      0.11      0.10      0.08         0.02          73.0   \n",
       "3787   Role-Playing      0.41      0.11      0.00         0.01          81.0   \n",
       "3145        Shooter      0.48      0.15      0.00         0.01           NaN   \n",
       "14848     Adventure      0.00      0.00      0.03         0.00           NaN   \n",
       "11175  Role-Playing      0.07      0.02      0.00         0.00          55.0   \n",
       "\n",
       "      User_Score Rating  \n",
       "5788         NaN    NaN  \n",
       "11473          3      E  \n",
       "9901         tbd      M  \n",
       "14158        tbd      T  \n",
       "6041         NaN    NaN  \n",
       "5773           8      T  \n",
       "3787         8.5      T  \n",
       "3145         NaN    NaN  \n",
       "14848        NaN    NaN  \n",
       "11175        8.1      E  "
      ]
     },
     "execution_count": 3,
     "metadata": {},
     "output_type": "execute_result"
    }
   ],
   "source": [
    "df.sample(10)"
   ]
  },
  {
   "cell_type": "markdown",
   "metadata": {},
   "source": [
    "I ensured to make all columns uniform by making them all lowercase."
   ]
  },
  {
   "cell_type": "code",
   "execution_count": 4,
   "metadata": {},
   "outputs": [],
   "source": [
    "df = df.rename(\n",
    "    columns={\n",
    "        'Name': 'name',\n",
    "        'Platform': 'platform',\n",
    "        'Year_of_Release': 'year_of_release',\n",
    "        'Genre': 'genre',\n",
    "        'NA_sales': 'na_sales',\n",
    "        'EU_sales': 'eu_sales',\n",
    "        'JP_sales': 'jp_sales',\n",
    "        'Other_sales': 'other_sales',\n",
    "        'Critic_Score': 'critic_score',\n",
    "        'User_Score': 'user_score',\n",
    "        'Rating': 'rating'\n",
    "    }\n",
    ")"
   ]
  },
  {
   "cell_type": "markdown",
   "metadata": {},
   "source": [
    "I fixed and enriched some of the columns (Name, Release Year, Genre, and from Critic Score to Rating) by addressing the missing values and data types."
   ]
  },
  {
   "cell_type": "code",
   "execution_count": 5,
   "metadata": {},
   "outputs": [
    {
     "name": "stdout",
     "output_type": "stream",
     "text": [
      "<class 'pandas.core.frame.DataFrame'>\n",
      "RangeIndex: 16715 entries, 0 to 16714\n",
      "Data columns (total 11 columns):\n",
      " #   Column           Non-Null Count  Dtype  \n",
      "---  ------           --------------  -----  \n",
      " 0   name             16713 non-null  object \n",
      " 1   platform         16715 non-null  object \n",
      " 2   year_of_release  16446 non-null  float64\n",
      " 3   genre            16713 non-null  object \n",
      " 4   na_sales         16715 non-null  float64\n",
      " 5   eu_sales         16715 non-null  float64\n",
      " 6   jp_sales         16715 non-null  float64\n",
      " 7   other_sales      16715 non-null  float64\n",
      " 8   critic_score     8137 non-null   float64\n",
      " 9   user_score       10014 non-null  object \n",
      " 10  rating           9949 non-null   object \n",
      "dtypes: float64(6), object(5)\n",
      "memory usage: 1.4+ MB\n"
     ]
    }
   ],
   "source": [
    "df.info()"
   ]
  },
  {
   "cell_type": "code",
   "execution_count": 6,
   "metadata": {},
   "outputs": [
    {
     "data": {
      "text/plain": [
       "name                  2\n",
       "platform              0\n",
       "year_of_release     269\n",
       "genre                 2\n",
       "na_sales              0\n",
       "eu_sales              0\n",
       "jp_sales              0\n",
       "other_sales           0\n",
       "critic_score       8578\n",
       "user_score         6701\n",
       "rating             6766\n",
       "dtype: int64"
      ]
     },
     "execution_count": 6,
     "metadata": {},
     "output_type": "execute_result"
    }
   ],
   "source": [
    "df.isna().sum()"
   ]
  },
  {
   "cell_type": "code",
   "execution_count": 7,
   "metadata": {},
   "outputs": [
    {
     "data": {
      "text/html": [
       "<div>\n",
       "<style scoped>\n",
       "    .dataframe tbody tr th:only-of-type {\n",
       "        vertical-align: middle;\n",
       "    }\n",
       "\n",
       "    .dataframe tbody tr th {\n",
       "        vertical-align: top;\n",
       "    }\n",
       "\n",
       "    .dataframe thead th {\n",
       "        text-align: right;\n",
       "    }\n",
       "</style>\n",
       "<table border=\"1\" class=\"dataframe\">\n",
       "  <thead>\n",
       "    <tr style=\"text-align: right;\">\n",
       "      <th></th>\n",
       "      <th>missing_values</th>\n",
       "      <th>%</th>\n",
       "    </tr>\n",
       "  </thead>\n",
       "  <tbody>\n",
       "    <tr>\n",
       "      <th>critic_score</th>\n",
       "      <td>8578</td>\n",
       "      <td>0.513</td>\n",
       "    </tr>\n",
       "    <tr>\n",
       "      <th>rating</th>\n",
       "      <td>6766</td>\n",
       "      <td>0.405</td>\n",
       "    </tr>\n",
       "    <tr>\n",
       "      <th>user_score</th>\n",
       "      <td>6701</td>\n",
       "      <td>0.401</td>\n",
       "    </tr>\n",
       "    <tr>\n",
       "      <th>year_of_release</th>\n",
       "      <td>269</td>\n",
       "      <td>0.016</td>\n",
       "    </tr>\n",
       "    <tr>\n",
       "      <th>name</th>\n",
       "      <td>2</td>\n",
       "      <td>0.000</td>\n",
       "    </tr>\n",
       "    <tr>\n",
       "      <th>platform</th>\n",
       "      <td>0</td>\n",
       "      <td>0.000</td>\n",
       "    </tr>\n",
       "    <tr>\n",
       "      <th>genre</th>\n",
       "      <td>2</td>\n",
       "      <td>0.000</td>\n",
       "    </tr>\n",
       "    <tr>\n",
       "      <th>na_sales</th>\n",
       "      <td>0</td>\n",
       "      <td>0.000</td>\n",
       "    </tr>\n",
       "    <tr>\n",
       "      <th>eu_sales</th>\n",
       "      <td>0</td>\n",
       "      <td>0.000</td>\n",
       "    </tr>\n",
       "    <tr>\n",
       "      <th>jp_sales</th>\n",
       "      <td>0</td>\n",
       "      <td>0.000</td>\n",
       "    </tr>\n",
       "    <tr>\n",
       "      <th>other_sales</th>\n",
       "      <td>0</td>\n",
       "      <td>0.000</td>\n",
       "    </tr>\n",
       "  </tbody>\n",
       "</table>\n",
       "</div>"
      ],
      "text/plain": [
       "                 missing_values      %\n",
       "critic_score               8578  0.513\n",
       "rating                     6766  0.405\n",
       "user_score                 6701  0.401\n",
       "year_of_release             269  0.016\n",
       "name                          2  0.000\n",
       "platform                      0  0.000\n",
       "genre                         2  0.000\n",
       "na_sales                      0  0.000\n",
       "eu_sales                      0  0.000\n",
       "jp_sales                      0  0.000\n",
       "other_sales                   0  0.000"
      ]
     },
     "execution_count": 7,
     "metadata": {},
     "output_type": "execute_result"
    }
   ],
   "source": [
    "mis_values = df.isnull().sum().to_frame('missing_values')\n",
    "mis_values['%'] = round(df.isnull().sum()/len(df), 3)\n",
    "mis_values.sort_values(by='%', ascending=False)"
   ]
  },
  {
   "cell_type": "code",
   "execution_count": 8,
   "metadata": {},
   "outputs": [
    {
     "data": {
      "text/plain": [
       "0"
      ]
     },
     "execution_count": 8,
     "metadata": {},
     "output_type": "execute_result"
    }
   ],
   "source": [
    "df.duplicated().sum()"
   ]
  },
  {
   "cell_type": "markdown",
   "metadata": {},
   "source": [
    "I changed the categorical columns to their new data type, and dropped the two games that didn't have a name provided."
   ]
  },
  {
   "cell_type": "code",
   "execution_count": 9,
   "metadata": {},
   "outputs": [
    {
     "data": {
      "text/plain": [
       "2"
      ]
     },
     "execution_count": 9,
     "metadata": {},
     "output_type": "execute_result"
    }
   ],
   "source": [
    "df['name'].isna().sum()"
   ]
  },
  {
   "cell_type": "code",
   "execution_count": 10,
   "metadata": {
    "scrolled": true
   },
   "outputs": [],
   "source": [
    "df['name'] = df['name'].astype(str)\n",
    "df['platform'] = df['platform'].astype(str)"
   ]
  },
  {
   "cell_type": "code",
   "execution_count": 11,
   "metadata": {},
   "outputs": [
    {
     "data": {
      "text/plain": [
       "0"
      ]
     },
     "execution_count": 11,
     "metadata": {},
     "output_type": "execute_result"
    }
   ],
   "source": [
    "df['name'].isna().sum()\n"
   ]
  },
  {
   "cell_type": "markdown",
   "metadata": {},
   "source": [
    "I also replace the NaN values with 0s for both score columns because there may have not been enough data for certain games or maybe users didn't want to give a rating just yet for the game (i.e. doesn't have enough hours played on the game) at the time of response."
   ]
  },
  {
   "cell_type": "code",
   "execution_count": 12,
   "metadata": {},
   "outputs": [
    {
     "data": {
      "text/plain": [
       "array([76.,  0., 82., 80., 89., 58., 87., 91., 61., 97., 95., 77., 88.,\n",
       "       83., 94., 93., 85., 86., 98., 96., 90., 84., 73., 74., 78., 92.,\n",
       "       71., 72., 68., 62., 49., 67., 81., 66., 56., 79., 70., 59., 64.,\n",
       "       75., 60., 63., 69., 50., 25., 42., 44., 55., 48., 57., 29., 47.,\n",
       "       65., 54., 20., 53., 37., 38., 33., 52., 30., 32., 43., 45., 51.,\n",
       "       40., 46., 39., 34., 35., 41., 36., 28., 31., 27., 26., 19., 23.,\n",
       "       24., 21., 17., 22., 13.])"
      ]
     },
     "execution_count": 12,
     "metadata": {},
     "output_type": "execute_result"
    }
   ],
   "source": [
    "df['critic_score'] = df['critic_score'].fillna(0) #this replaces the NaN values\n",
    "df['critic_score'].unique()\n",
    "#maybe I should create an avg mean for the 0 scores?"
   ]
  },
  {
   "cell_type": "code",
   "execution_count": 13,
   "metadata": {},
   "outputs": [
    {
     "data": {
      "text/plain": [
       "array([8. , 0. , 8.3, 8.5, 6.6, 8.4, 8.6, 7.7, 6.3, 7.4, 8.2, 9. , 7.9,\n",
       "       8.1, 8.7, 7.1, 3.4, 5.3, 4.8, 3.2, 8.9, 6.4, 7.8, 7.5, 2.6, 7.2,\n",
       "       9.2, 7. , 7.3, 4.3, 7.6, 5.7, 5. , 9.1, 6.5, 8.8, 6.9, 9.4, 6.8,\n",
       "       6.1, 6.7, 5.4, 4. , 4.9, 4.5, 9.3, 6.2, 4.2, 6. , 3.7, 4.1, 5.8,\n",
       "       5.6, 5.5, 4.4, 4.6, 5.9, 3.9, 3.1, 2.9, 5.2, 3.3, 4.7, 5.1, 3.5,\n",
       "       2.5, 1.9, 3. , 2.7, 2.2, 2. , 9.5, 2.1, 3.6, 2.8, 1.8, 3.8, 1.6,\n",
       "       9.6, 2.4, 1.7, 1.1, 0.3, 1.5, 0.7, 1.2, 2.3, 0.5, 1.3, 0.2, 0.6,\n",
       "       1.4, 0.9, 1. , 9.7])"
      ]
     },
     "execution_count": 13,
     "metadata": {},
     "output_type": "execute_result"
    }
   ],
   "source": [
    "df['user_score'] = df['user_score'].fillna(-1) #this replaces the NaN values\n",
    "df['user_score'] = df['user_score'].replace('tbd', -1)\n",
    "df['user_score'] = df['user_score'].replace(-1, 0)\n",
    "df['user_score'] = df['user_score'].astype(float)\n",
    "df['user_score'].unique()\n",
    "\n",
    "#maybe I should create an avg mean for the 0 scores?"
   ]
  },
  {
   "cell_type": "markdown",
   "metadata": {},
   "source": [
    "There are 269 games that have missing game year releases so, I decided to replace the missing values with a mean year estimate."
   ]
  },
  {
   "cell_type": "code",
   "execution_count": 14,
   "metadata": {
    "scrolled": true
   },
   "outputs": [
    {
     "data": {
      "text/plain": [
       "2008.0    1427\n",
       "2009.0    1426\n",
       "2010.0    1255\n",
       "2007.0    1197\n",
       "2011.0    1136\n",
       "2006.0    1006\n",
       "2005.0     939\n",
       "2002.0     829\n",
       "2003.0     775\n",
       "2004.0     762\n",
       "2012.0     653\n",
       "2015.0     606\n",
       "2014.0     581\n",
       "2013.0     544\n",
       "2016.0     502\n",
       "2001.0     482\n",
       "1998.0     379\n",
       "2000.0     350\n",
       "1999.0     338\n",
       "1997.0     289\n",
       "NaN        269\n",
       "1996.0     263\n",
       "1995.0     219\n",
       "1994.0     121\n",
       "1993.0      62\n",
       "1981.0      46\n",
       "1992.0      43\n",
       "1991.0      41\n",
       "1982.0      36\n",
       "1986.0      21\n",
       "1983.0      17\n",
       "1989.0      17\n",
       "1990.0      16\n",
       "1987.0      16\n",
       "1988.0      15\n",
       "1984.0      14\n",
       "1985.0      14\n",
       "1980.0       9\n",
       "Name: year_of_release, dtype: int64"
      ]
     },
     "execution_count": 14,
     "metadata": {},
     "output_type": "execute_result"
    }
   ],
   "source": [
    "df['year_of_release'].value_counts(dropna=False)\n",
    "\n",
    "#Although, maybe I should use a wikipedia web api to potential retrive most if not all of the games' missing said values.??"
   ]
  },
  {
   "cell_type": "code",
   "execution_count": 15,
   "metadata": {},
   "outputs": [],
   "source": [
    "df.dropna(axis=0, inplace=True)"
   ]
  },
  {
   "cell_type": "code",
   "execution_count": 16,
   "metadata": {},
   "outputs": [
    {
     "name": "stdout",
     "output_type": "stream",
     "text": [
      "<class 'pandas.core.frame.DataFrame'>\n",
      "Int64Index: 9768 entries, 0 to 16706\n",
      "Data columns (total 11 columns):\n",
      " #   Column           Non-Null Count  Dtype  \n",
      "---  ------           --------------  -----  \n",
      " 0   name             9768 non-null   object \n",
      " 1   platform         9768 non-null   object \n",
      " 2   year_of_release  9768 non-null   float64\n",
      " 3   genre            9768 non-null   object \n",
      " 4   na_sales         9768 non-null   float64\n",
      " 5   eu_sales         9768 non-null   float64\n",
      " 6   jp_sales         9768 non-null   float64\n",
      " 7   other_sales      9768 non-null   float64\n",
      " 8   critic_score     9768 non-null   float64\n",
      " 9   user_score       9768 non-null   float64\n",
      " 10  rating           9768 non-null   object \n",
      "dtypes: float64(7), object(4)\n",
      "memory usage: 915.8+ KB\n"
     ]
    }
   ],
   "source": [
    "df.info()"
   ]
  },
  {
   "cell_type": "code",
   "execution_count": 17,
   "metadata": {
    "scrolled": true
   },
   "outputs": [
    {
     "data": {
      "text/plain": [
       "2009.0    1011\n",
       "2008.0     981\n",
       "2007.0     821\n",
       "2010.0     799\n",
       "2005.0     706\n",
       "2011.0     703\n",
       "2006.0     678\n",
       "2002.0     655\n",
       "2003.0     613\n",
       "2004.0     598\n",
       "2012.0     355\n",
       "2014.0     345\n",
       "2001.0     339\n",
       "2013.0     316\n",
       "2015.0     315\n",
       "2016.0     280\n",
       "2000.0     148\n",
       "1999.0      42\n",
       "1998.0      32\n",
       "1997.0      19\n",
       "1996.0       7\n",
       "1992.0       2\n",
       "1994.0       1\n",
       "1985.0       1\n",
       "1988.0       1\n",
       "Name: year_of_release, dtype: int64"
      ]
     },
     "execution_count": 17,
     "metadata": {},
     "output_type": "execute_result"
    }
   ],
   "source": [
    "df['year_of_release'].value_counts(dropna=False)"
   ]
  },
  {
   "cell_type": "markdown",
   "metadata": {},
   "source": [
    "I explored the unique quantity of platforms to get an idea of which platforms has the most games."
   ]
  },
  {
   "cell_type": "code",
   "execution_count": 18,
   "metadata": {},
   "outputs": [
    {
     "data": {
      "text/plain": [
       "array(['Wii', 'DS', 'X360', 'PS3', 'PS2', '3DS', 'PS4', 'PS', 'XB', 'PC',\n",
       "       'PSP', 'WiiU', 'GC', 'GBA', 'XOne', 'PSV', 'DC'], dtype=object)"
      ]
     },
     "execution_count": 18,
     "metadata": {},
     "output_type": "execute_result"
    }
   ],
   "source": [
    "df['platform'].unique()"
   ]
  },
  {
   "cell_type": "code",
   "execution_count": 19,
   "metadata": {
    "scrolled": true
   },
   "outputs": [
    {
     "data": {
      "text/plain": [
       "PS2     1456\n",
       "DS      1255\n",
       "X360    1030\n",
       "Wii      977\n",
       "PS3      935\n",
       "PC       757\n",
       "XB       714\n",
       "PSP      536\n",
       "GBA      514\n",
       "GC       457\n",
       "PS4      255\n",
       "3DS      223\n",
       "PS       204\n",
       "XOne     186\n",
       "PSV      150\n",
       "WiiU     105\n",
       "DC        14\n",
       "Name: platform, dtype: int64"
      ]
     },
     "execution_count": 19,
     "metadata": {},
     "output_type": "execute_result"
    }
   ],
   "source": [
    "df['platform'].value_counts()"
   ]
  },
  {
   "cell_type": "markdown",
   "metadata": {},
   "source": [
    "I also explore the genres uniqueness, changed its datatype to string, and replaced & categorized the missing values as \"Other\""
   ]
  },
  {
   "cell_type": "code",
   "execution_count": 20,
   "metadata": {},
   "outputs": [
    {
     "data": {
      "text/plain": [
       "array(['Sports', 'Racing', 'Platform', 'Misc', 'Action', 'Puzzle',\n",
       "       'Shooter', 'Fighting', 'Simulation', 'Role-Playing', 'Adventure',\n",
       "       'Strategy'], dtype=object)"
      ]
     },
     "execution_count": 20,
     "metadata": {},
     "output_type": "execute_result"
    }
   ],
   "source": [
    "df['genre'] = df['genre'].fillna('Other')\n",
    "df['genre'] = df['genre'].astype(str)\n",
    "df['genre'].unique()"
   ]
  },
  {
   "cell_type": "code",
   "execution_count": 21,
   "metadata": {},
   "outputs": [
    {
     "data": {
      "text/plain": [
       "Action          2146\n",
       "Sports          1478\n",
       "Shooter          996\n",
       "Misc             862\n",
       "Racing           856\n",
       "Role-Playing     770\n",
       "Platform         561\n",
       "Simulation       559\n",
       "Adventure        440\n",
       "Fighting         432\n",
       "Puzzle           336\n",
       "Strategy         332\n",
       "Name: genre, dtype: int64"
      ]
     },
     "execution_count": 21,
     "metadata": {},
     "output_type": "execute_result"
    }
   ],
   "source": [
    "df['genre'].value_counts()"
   ]
  },
  {
   "cell_type": "markdown",
   "metadata": {},
   "source": [
    "Likewise with the genre, I did the same for the rating's uniqueness, changed its datatype to string, and replaced & categorized the missing values as \"RP\" (Rating Pending). To which I see there are 6,766 \"RP\" ratings, which is a lot. I wonder how long does it take for a rating to be considered approved for a game."
   ]
  },
  {
   "cell_type": "code",
   "execution_count": 22,
   "metadata": {},
   "outputs": [
    {
     "data": {
      "text/plain": [
       "array(['E', 'M', 'T', 'E10+', 'K-A', 'AO', 'EC', 'RP'], dtype=object)"
      ]
     },
     "execution_count": 22,
     "metadata": {},
     "output_type": "execute_result"
    }
   ],
   "source": [
    "df['rating'] = df['rating'].fillna('RP')\n",
    "df['rating'] = df['rating'].astype(str)\n",
    "df['rating'].unique()"
   ]
  },
  {
   "cell_type": "code",
   "execution_count": 23,
   "metadata": {},
   "outputs": [
    {
     "data": {
      "text/plain": [
       "E       3921\n",
       "T       2905\n",
       "M       1536\n",
       "E10+    1393\n",
       "EC         8\n",
       "K-A        3\n",
       "RP         1\n",
       "AO         1\n",
       "Name: rating, dtype: int64"
      ]
     },
     "execution_count": 23,
     "metadata": {},
     "output_type": "execute_result"
    }
   ],
   "source": [
    "df['rating'].value_counts()"
   ]
  },
  {
   "cell_type": "markdown",
   "metadata": {},
   "source": [
    "I reprinted the dataframe's general info table and see that the dataframe's shape is uniform."
   ]
  },
  {
   "cell_type": "code",
   "execution_count": 24,
   "metadata": {},
   "outputs": [
    {
     "name": "stdout",
     "output_type": "stream",
     "text": [
      "<class 'pandas.core.frame.DataFrame'>\n",
      "Int64Index: 9768 entries, 0 to 16706\n",
      "Data columns (total 11 columns):\n",
      " #   Column           Non-Null Count  Dtype  \n",
      "---  ------           --------------  -----  \n",
      " 0   name             9768 non-null   object \n",
      " 1   platform         9768 non-null   object \n",
      " 2   year_of_release  9768 non-null   float64\n",
      " 3   genre            9768 non-null   object \n",
      " 4   na_sales         9768 non-null   float64\n",
      " 5   eu_sales         9768 non-null   float64\n",
      " 6   jp_sales         9768 non-null   float64\n",
      " 7   other_sales      9768 non-null   float64\n",
      " 8   critic_score     9768 non-null   float64\n",
      " 9   user_score       9768 non-null   float64\n",
      " 10  rating           9768 non-null   object \n",
      "dtypes: float64(7), object(4)\n",
      "memory usage: 915.8+ KB\n"
     ]
    }
   ],
   "source": [
    "df.info()"
   ]
  },
  {
   "cell_type": "code",
   "execution_count": 25,
   "metadata": {},
   "outputs": [
    {
     "data": {
      "text/html": [
       "<div>\n",
       "<style scoped>\n",
       "    .dataframe tbody tr th:only-of-type {\n",
       "        vertical-align: middle;\n",
       "    }\n",
       "\n",
       "    .dataframe tbody tr th {\n",
       "        vertical-align: top;\n",
       "    }\n",
       "\n",
       "    .dataframe thead th {\n",
       "        text-align: right;\n",
       "    }\n",
       "</style>\n",
       "<table border=\"1\" class=\"dataframe\">\n",
       "  <thead>\n",
       "    <tr style=\"text-align: right;\">\n",
       "      <th></th>\n",
       "      <th>name</th>\n",
       "      <th>platform</th>\n",
       "      <th>year_of_release</th>\n",
       "      <th>genre</th>\n",
       "      <th>na_sales</th>\n",
       "      <th>eu_sales</th>\n",
       "      <th>jp_sales</th>\n",
       "      <th>other_sales</th>\n",
       "      <th>critic_score</th>\n",
       "      <th>user_score</th>\n",
       "      <th>rating</th>\n",
       "    </tr>\n",
       "  </thead>\n",
       "  <tbody>\n",
       "    <tr>\n",
       "      <th>9759</th>\n",
       "      <td>Touch My Katamari</td>\n",
       "      <td>PSV</td>\n",
       "      <td>2011.0</td>\n",
       "      <td>Puzzle</td>\n",
       "      <td>0.07</td>\n",
       "      <td>0.03</td>\n",
       "      <td>0.00</td>\n",
       "      <td>0.02</td>\n",
       "      <td>69.0</td>\n",
       "      <td>7.4</td>\n",
       "      <td>E10+</td>\n",
       "    </tr>\n",
       "    <tr>\n",
       "      <th>15290</th>\n",
       "      <td>Geon Cube</td>\n",
       "      <td>Wii</td>\n",
       "      <td>2009.0</td>\n",
       "      <td>Puzzle</td>\n",
       "      <td>0.02</td>\n",
       "      <td>0.00</td>\n",
       "      <td>0.00</td>\n",
       "      <td>0.00</td>\n",
       "      <td>0.0</td>\n",
       "      <td>0.0</td>\n",
       "      <td>E</td>\n",
       "    </tr>\n",
       "    <tr>\n",
       "      <th>10713</th>\n",
       "      <td>The BIGS 2</td>\n",
       "      <td>PSP</td>\n",
       "      <td>2009.0</td>\n",
       "      <td>Sports</td>\n",
       "      <td>0.09</td>\n",
       "      <td>0.00</td>\n",
       "      <td>0.00</td>\n",
       "      <td>0.01</td>\n",
       "      <td>67.0</td>\n",
       "      <td>0.0</td>\n",
       "      <td>E10+</td>\n",
       "    </tr>\n",
       "    <tr>\n",
       "      <th>9311</th>\n",
       "      <td>LEGO The Lord of the Rings</td>\n",
       "      <td>DS</td>\n",
       "      <td>2012.0</td>\n",
       "      <td>Action</td>\n",
       "      <td>0.00</td>\n",
       "      <td>0.12</td>\n",
       "      <td>0.00</td>\n",
       "      <td>0.01</td>\n",
       "      <td>0.0</td>\n",
       "      <td>0.0</td>\n",
       "      <td>E10+</td>\n",
       "    </tr>\n",
       "    <tr>\n",
       "      <th>14104</th>\n",
       "      <td>Secret Files 2: Puritas Cordis</td>\n",
       "      <td>PC</td>\n",
       "      <td>2009.0</td>\n",
       "      <td>Adventure</td>\n",
       "      <td>0.00</td>\n",
       "      <td>0.03</td>\n",
       "      <td>0.00</td>\n",
       "      <td>0.00</td>\n",
       "      <td>64.0</td>\n",
       "      <td>7.1</td>\n",
       "      <td>T</td>\n",
       "    </tr>\n",
       "    <tr>\n",
       "      <th>9355</th>\n",
       "      <td>Retro Atari Classics</td>\n",
       "      <td>DS</td>\n",
       "      <td>2005.0</td>\n",
       "      <td>Misc</td>\n",
       "      <td>0.12</td>\n",
       "      <td>0.00</td>\n",
       "      <td>0.00</td>\n",
       "      <td>0.01</td>\n",
       "      <td>51.0</td>\n",
       "      <td>3.7</td>\n",
       "      <td>E</td>\n",
       "    </tr>\n",
       "    <tr>\n",
       "      <th>10476</th>\n",
       "      <td>Gretzky NHL</td>\n",
       "      <td>PSP</td>\n",
       "      <td>2005.0</td>\n",
       "      <td>Sports</td>\n",
       "      <td>0.10</td>\n",
       "      <td>0.00</td>\n",
       "      <td>0.00</td>\n",
       "      <td>0.01</td>\n",
       "      <td>61.0</td>\n",
       "      <td>7.4</td>\n",
       "      <td>E</td>\n",
       "    </tr>\n",
       "    <tr>\n",
       "      <th>4152</th>\n",
       "      <td>Unreal Tournament III</td>\n",
       "      <td>X360</td>\n",
       "      <td>2008.0</td>\n",
       "      <td>Shooter</td>\n",
       "      <td>0.25</td>\n",
       "      <td>0.17</td>\n",
       "      <td>0.01</td>\n",
       "      <td>0.05</td>\n",
       "      <td>82.0</td>\n",
       "      <td>7.6</td>\n",
       "      <td>M</td>\n",
       "    </tr>\n",
       "    <tr>\n",
       "      <th>7493</th>\n",
       "      <td>X2: Wolverine's Revenge</td>\n",
       "      <td>XB</td>\n",
       "      <td>2003.0</td>\n",
       "      <td>Platform</td>\n",
       "      <td>0.15</td>\n",
       "      <td>0.04</td>\n",
       "      <td>0.00</td>\n",
       "      <td>0.01</td>\n",
       "      <td>58.0</td>\n",
       "      <td>6.4</td>\n",
       "      <td>T</td>\n",
       "    </tr>\n",
       "    <tr>\n",
       "      <th>7037</th>\n",
       "      <td>Carnival Island</td>\n",
       "      <td>PS3</td>\n",
       "      <td>2011.0</td>\n",
       "      <td>Misc</td>\n",
       "      <td>0.13</td>\n",
       "      <td>0.06</td>\n",
       "      <td>0.00</td>\n",
       "      <td>0.04</td>\n",
       "      <td>66.0</td>\n",
       "      <td>5.2</td>\n",
       "      <td>E</td>\n",
       "    </tr>\n",
       "  </tbody>\n",
       "</table>\n",
       "</div>"
      ],
      "text/plain": [
       "                                 name platform  year_of_release      genre  \\\n",
       "9759               Touch My Katamari       PSV           2011.0     Puzzle   \n",
       "15290                       Geon Cube      Wii           2009.0     Puzzle   \n",
       "10713                      The BIGS 2      PSP           2009.0     Sports   \n",
       "9311       LEGO The Lord of the Rings       DS           2012.0     Action   \n",
       "14104  Secret Files 2: Puritas Cordis       PC           2009.0  Adventure   \n",
       "9355             Retro Atari Classics       DS           2005.0       Misc   \n",
       "10476                     Gretzky NHL      PSP           2005.0     Sports   \n",
       "4152            Unreal Tournament III     X360           2008.0    Shooter   \n",
       "7493          X2: Wolverine's Revenge       XB           2003.0   Platform   \n",
       "7037                  Carnival Island      PS3           2011.0       Misc   \n",
       "\n",
       "       na_sales  eu_sales  jp_sales  other_sales  critic_score  user_score  \\\n",
       "9759       0.07      0.03      0.00         0.02          69.0         7.4   \n",
       "15290      0.02      0.00      0.00         0.00           0.0         0.0   \n",
       "10713      0.09      0.00      0.00         0.01          67.0         0.0   \n",
       "9311       0.00      0.12      0.00         0.01           0.0         0.0   \n",
       "14104      0.00      0.03      0.00         0.00          64.0         7.1   \n",
       "9355       0.12      0.00      0.00         0.01          51.0         3.7   \n",
       "10476      0.10      0.00      0.00         0.01          61.0         7.4   \n",
       "4152       0.25      0.17      0.01         0.05          82.0         7.6   \n",
       "7493       0.15      0.04      0.00         0.01          58.0         6.4   \n",
       "7037       0.13      0.06      0.00         0.04          66.0         5.2   \n",
       "\n",
       "      rating  \n",
       "9759    E10+  \n",
       "15290      E  \n",
       "10713   E10+  \n",
       "9311    E10+  \n",
       "14104      T  \n",
       "9355       E  \n",
       "10476      E  \n",
       "4152       M  \n",
       "7493       T  \n",
       "7037       E  "
      ]
     },
     "execution_count": 25,
     "metadata": {},
     "output_type": "execute_result"
    }
   ],
   "source": [
    "df.sample(10)"
   ]
  },
  {
   "cell_type": "markdown",
   "metadata": {},
   "source": [
    "# Data Analysis (EDA & SDA)"
   ]
  },
  {
   "cell_type": "markdown",
   "metadata": {},
   "source": [
    "Now that the data wrangling process is completed, we can began exploring some inital questions and tackle some goals that were stated in the beginning."
   ]
  },
  {
   "cell_type": "code",
   "execution_count": 26,
   "metadata": {},
   "outputs": [
    {
     "data": {
      "text/html": [
       "<div>\n",
       "<style scoped>\n",
       "    .dataframe tbody tr th:only-of-type {\n",
       "        vertical-align: middle;\n",
       "    }\n",
       "\n",
       "    .dataframe tbody tr th {\n",
       "        vertical-align: top;\n",
       "    }\n",
       "\n",
       "    .dataframe thead th {\n",
       "        text-align: right;\n",
       "    }\n",
       "</style>\n",
       "<table border=\"1\" class=\"dataframe\">\n",
       "  <thead>\n",
       "    <tr style=\"text-align: right;\">\n",
       "      <th></th>\n",
       "      <th>year_of_release</th>\n",
       "      <th>na_sales</th>\n",
       "      <th>eu_sales</th>\n",
       "      <th>jp_sales</th>\n",
       "      <th>other_sales</th>\n",
       "      <th>critic_score</th>\n",
       "      <th>user_score</th>\n",
       "    </tr>\n",
       "  </thead>\n",
       "  <tbody>\n",
       "    <tr>\n",
       "      <th>count</th>\n",
       "      <td>9768.000000</td>\n",
       "      <td>9768.000000</td>\n",
       "      <td>9768.000000</td>\n",
       "      <td>9768.000000</td>\n",
       "      <td>9768.000000</td>\n",
       "      <td>9768.000000</td>\n",
       "      <td>9768.000000</td>\n",
       "    </tr>\n",
       "    <tr>\n",
       "      <th>mean</th>\n",
       "      <td>2007.581695</td>\n",
       "      <td>0.318958</td>\n",
       "      <td>0.183255</td>\n",
       "      <td>0.046468</td>\n",
       "      <td>0.064779</td>\n",
       "      <td>55.815008</td>\n",
       "      <td>5.385145</td>\n",
       "    </tr>\n",
       "    <tr>\n",
       "      <th>std</th>\n",
       "      <td>4.099819</td>\n",
       "      <td>0.826136</td>\n",
       "      <td>0.587493</td>\n",
       "      <td>0.242874</td>\n",
       "      <td>0.230047</td>\n",
       "      <td>29.879805</td>\n",
       "      <td>3.329471</td>\n",
       "    </tr>\n",
       "    <tr>\n",
       "      <th>min</th>\n",
       "      <td>1985.000000</td>\n",
       "      <td>0.000000</td>\n",
       "      <td>0.000000</td>\n",
       "      <td>0.000000</td>\n",
       "      <td>0.000000</td>\n",
       "      <td>0.000000</td>\n",
       "      <td>0.000000</td>\n",
       "    </tr>\n",
       "    <tr>\n",
       "      <th>25%</th>\n",
       "      <td>2004.000000</td>\n",
       "      <td>0.050000</td>\n",
       "      <td>0.010000</td>\n",
       "      <td>0.000000</td>\n",
       "      <td>0.010000</td>\n",
       "      <td>47.000000</td>\n",
       "      <td>2.000000</td>\n",
       "    </tr>\n",
       "    <tr>\n",
       "      <th>50%</th>\n",
       "      <td>2008.000000</td>\n",
       "      <td>0.120000</td>\n",
       "      <td>0.040000</td>\n",
       "      <td>0.000000</td>\n",
       "      <td>0.020000</td>\n",
       "      <td>66.000000</td>\n",
       "      <td>6.900000</td>\n",
       "    </tr>\n",
       "    <tr>\n",
       "      <th>75%</th>\n",
       "      <td>2010.000000</td>\n",
       "      <td>0.300000</td>\n",
       "      <td>0.150000</td>\n",
       "      <td>0.000000</td>\n",
       "      <td>0.050000</td>\n",
       "      <td>77.000000</td>\n",
       "      <td>8.000000</td>\n",
       "    </tr>\n",
       "    <tr>\n",
       "      <th>max</th>\n",
       "      <td>2016.000000</td>\n",
       "      <td>41.360000</td>\n",
       "      <td>28.960000</td>\n",
       "      <td>6.500000</td>\n",
       "      <td>10.570000</td>\n",
       "      <td>98.000000</td>\n",
       "      <td>9.700000</td>\n",
       "    </tr>\n",
       "  </tbody>\n",
       "</table>\n",
       "</div>"
      ],
      "text/plain": [
       "       year_of_release     na_sales     eu_sales     jp_sales  other_sales  \\\n",
       "count      9768.000000  9768.000000  9768.000000  9768.000000  9768.000000   \n",
       "mean       2007.581695     0.318958     0.183255     0.046468     0.064779   \n",
       "std           4.099819     0.826136     0.587493     0.242874     0.230047   \n",
       "min        1985.000000     0.000000     0.000000     0.000000     0.000000   \n",
       "25%        2004.000000     0.050000     0.010000     0.000000     0.010000   \n",
       "50%        2008.000000     0.120000     0.040000     0.000000     0.020000   \n",
       "75%        2010.000000     0.300000     0.150000     0.000000     0.050000   \n",
       "max        2016.000000    41.360000    28.960000     6.500000    10.570000   \n",
       "\n",
       "       critic_score   user_score  \n",
       "count   9768.000000  9768.000000  \n",
       "mean      55.815008     5.385145  \n",
       "std       29.879805     3.329471  \n",
       "min        0.000000     0.000000  \n",
       "25%       47.000000     2.000000  \n",
       "50%       66.000000     6.900000  \n",
       "75%       77.000000     8.000000  \n",
       "max       98.000000     9.700000  "
      ]
     },
     "execution_count": 26,
     "metadata": {},
     "output_type": "execute_result"
    }
   ],
   "source": [
    "df.describe() #sales are in millions"
   ]
  },
  {
   "cell_type": "code",
   "execution_count": 27,
   "metadata": {},
   "outputs": [
    {
     "data": {
      "text/html": [
       "<div>\n",
       "<style scoped>\n",
       "    .dataframe tbody tr th:only-of-type {\n",
       "        vertical-align: middle;\n",
       "    }\n",
       "\n",
       "    .dataframe tbody tr th {\n",
       "        vertical-align: top;\n",
       "    }\n",
       "\n",
       "    .dataframe thead th {\n",
       "        text-align: right;\n",
       "    }\n",
       "</style>\n",
       "<table border=\"1\" class=\"dataframe\">\n",
       "  <thead>\n",
       "    <tr style=\"text-align: right;\">\n",
       "      <th></th>\n",
       "      <th>name</th>\n",
       "      <th>platform</th>\n",
       "      <th>year_of_release</th>\n",
       "      <th>genre</th>\n",
       "      <th>na_sales</th>\n",
       "      <th>eu_sales</th>\n",
       "      <th>jp_sales</th>\n",
       "      <th>other_sales</th>\n",
       "      <th>critic_score</th>\n",
       "      <th>user_score</th>\n",
       "      <th>rating</th>\n",
       "      <th>sum_sales</th>\n",
       "    </tr>\n",
       "  </thead>\n",
       "  <tbody>\n",
       "    <tr>\n",
       "      <th>11141</th>\n",
       "      <td>The Weakest Link</td>\n",
       "      <td>PS</td>\n",
       "      <td>2001.0</td>\n",
       "      <td>Misc</td>\n",
       "      <td>0.05</td>\n",
       "      <td>0.03</td>\n",
       "      <td>0.00</td>\n",
       "      <td>0.01</td>\n",
       "      <td>63.0</td>\n",
       "      <td>7.2</td>\n",
       "      <td>E</td>\n",
       "      <td>0.09</td>\n",
       "    </tr>\n",
       "    <tr>\n",
       "      <th>14648</th>\n",
       "      <td>Lords of the Fallen</td>\n",
       "      <td>PC</td>\n",
       "      <td>2014.0</td>\n",
       "      <td>Role-Playing</td>\n",
       "      <td>0.00</td>\n",
       "      <td>0.03</td>\n",
       "      <td>0.00</td>\n",
       "      <td>0.00</td>\n",
       "      <td>73.0</td>\n",
       "      <td>6.9</td>\n",
       "      <td>M</td>\n",
       "      <td>0.03</td>\n",
       "    </tr>\n",
       "    <tr>\n",
       "      <th>11916</th>\n",
       "      <td>Elements of Destruction</td>\n",
       "      <td>DS</td>\n",
       "      <td>2007.0</td>\n",
       "      <td>Strategy</td>\n",
       "      <td>0.07</td>\n",
       "      <td>0.00</td>\n",
       "      <td>0.00</td>\n",
       "      <td>0.01</td>\n",
       "      <td>0.0</td>\n",
       "      <td>0.0</td>\n",
       "      <td>E10+</td>\n",
       "      <td>0.08</td>\n",
       "    </tr>\n",
       "    <tr>\n",
       "      <th>5924</th>\n",
       "      <td>Capcom Classics Collection Remixed</td>\n",
       "      <td>PSP</td>\n",
       "      <td>2006.0</td>\n",
       "      <td>Misc</td>\n",
       "      <td>0.27</td>\n",
       "      <td>0.00</td>\n",
       "      <td>0.00</td>\n",
       "      <td>0.02</td>\n",
       "      <td>72.0</td>\n",
       "      <td>7.0</td>\n",
       "      <td>T</td>\n",
       "      <td>0.29</td>\n",
       "    </tr>\n",
       "    <tr>\n",
       "      <th>16630</th>\n",
       "      <td>Sébastien Loeb Rally Evo</td>\n",
       "      <td>XOne</td>\n",
       "      <td>2016.0</td>\n",
       "      <td>Racing</td>\n",
       "      <td>0.00</td>\n",
       "      <td>0.01</td>\n",
       "      <td>0.00</td>\n",
       "      <td>0.00</td>\n",
       "      <td>63.0</td>\n",
       "      <td>8.2</td>\n",
       "      <td>E</td>\n",
       "      <td>0.01</td>\n",
       "    </tr>\n",
       "    <tr>\n",
       "      <th>10162</th>\n",
       "      <td>Family Game Night 4: The Game Show</td>\n",
       "      <td>PS3</td>\n",
       "      <td>2011.0</td>\n",
       "      <td>Misc</td>\n",
       "      <td>0.08</td>\n",
       "      <td>0.02</td>\n",
       "      <td>0.00</td>\n",
       "      <td>0.01</td>\n",
       "      <td>0.0</td>\n",
       "      <td>0.0</td>\n",
       "      <td>E</td>\n",
       "      <td>0.11</td>\n",
       "    </tr>\n",
       "    <tr>\n",
       "      <th>8123</th>\n",
       "      <td>American Chopper 2: Full Throttle</td>\n",
       "      <td>PS2</td>\n",
       "      <td>2005.0</td>\n",
       "      <td>Racing</td>\n",
       "      <td>0.09</td>\n",
       "      <td>0.07</td>\n",
       "      <td>0.00</td>\n",
       "      <td>0.02</td>\n",
       "      <td>0.0</td>\n",
       "      <td>8.1</td>\n",
       "      <td>T</td>\n",
       "      <td>0.18</td>\n",
       "    </tr>\n",
       "    <tr>\n",
       "      <th>2007</th>\n",
       "      <td>Super Princess Peach</td>\n",
       "      <td>DS</td>\n",
       "      <td>2005.0</td>\n",
       "      <td>Platform</td>\n",
       "      <td>0.70</td>\n",
       "      <td>0.05</td>\n",
       "      <td>0.21</td>\n",
       "      <td>0.07</td>\n",
       "      <td>75.0</td>\n",
       "      <td>7.6</td>\n",
       "      <td>E</td>\n",
       "      <td>1.03</td>\n",
       "    </tr>\n",
       "    <tr>\n",
       "      <th>8331</th>\n",
       "      <td>Bee Movie Game</td>\n",
       "      <td>X360</td>\n",
       "      <td>2007.0</td>\n",
       "      <td>Action</td>\n",
       "      <td>0.16</td>\n",
       "      <td>0.00</td>\n",
       "      <td>0.00</td>\n",
       "      <td>0.01</td>\n",
       "      <td>71.0</td>\n",
       "      <td>5.8</td>\n",
       "      <td>E</td>\n",
       "      <td>0.17</td>\n",
       "    </tr>\n",
       "    <tr>\n",
       "      <th>4349</th>\n",
       "      <td>WWE WrestleMania 21</td>\n",
       "      <td>XB</td>\n",
       "      <td>2005.0</td>\n",
       "      <td>Fighting</td>\n",
       "      <td>0.34</td>\n",
       "      <td>0.10</td>\n",
       "      <td>0.00</td>\n",
       "      <td>0.02</td>\n",
       "      <td>56.0</td>\n",
       "      <td>6.9</td>\n",
       "      <td>T</td>\n",
       "      <td>0.46</td>\n",
       "    </tr>\n",
       "  </tbody>\n",
       "</table>\n",
       "</div>"
      ],
      "text/plain": [
       "                                     name platform  year_of_release  \\\n",
       "11141                    The Weakest Link       PS           2001.0   \n",
       "14648                 Lords of the Fallen       PC           2014.0   \n",
       "11916             Elements of Destruction       DS           2007.0   \n",
       "5924   Capcom Classics Collection Remixed      PSP           2006.0   \n",
       "16630            Sébastien Loeb Rally Evo     XOne           2016.0   \n",
       "10162  Family Game Night 4: The Game Show      PS3           2011.0   \n",
       "8123    American Chopper 2: Full Throttle      PS2           2005.0   \n",
       "2007                 Super Princess Peach       DS           2005.0   \n",
       "8331                       Bee Movie Game     X360           2007.0   \n",
       "4349                  WWE WrestleMania 21       XB           2005.0   \n",
       "\n",
       "              genre  na_sales  eu_sales  jp_sales  other_sales  critic_score  \\\n",
       "11141          Misc      0.05      0.03      0.00         0.01          63.0   \n",
       "14648  Role-Playing      0.00      0.03      0.00         0.00          73.0   \n",
       "11916      Strategy      0.07      0.00      0.00         0.01           0.0   \n",
       "5924           Misc      0.27      0.00      0.00         0.02          72.0   \n",
       "16630        Racing      0.00      0.01      0.00         0.00          63.0   \n",
       "10162          Misc      0.08      0.02      0.00         0.01           0.0   \n",
       "8123         Racing      0.09      0.07      0.00         0.02           0.0   \n",
       "2007       Platform      0.70      0.05      0.21         0.07          75.0   \n",
       "8331         Action      0.16      0.00      0.00         0.01          71.0   \n",
       "4349       Fighting      0.34      0.10      0.00         0.02          56.0   \n",
       "\n",
       "       user_score rating  sum_sales  \n",
       "11141         7.2      E       0.09  \n",
       "14648         6.9      M       0.03  \n",
       "11916         0.0   E10+       0.08  \n",
       "5924          7.0      T       0.29  \n",
       "16630         8.2      E       0.01  \n",
       "10162         0.0      E       0.11  \n",
       "8123          8.1      T       0.18  \n",
       "2007          7.6      E       1.03  \n",
       "8331          5.8      E       0.17  \n",
       "4349          6.9      T       0.46  "
      ]
     },
     "execution_count": 27,
     "metadata": {},
     "output_type": "execute_result"
    }
   ],
   "source": [
    "df['sum_sales'] = df['na_sales'] + df['eu_sales'] + df['jp_sales'] + df['other_sales']\n",
    "df.sample(10)"
   ]
  },
  {
   "cell_type": "markdown",
   "metadata": {},
   "source": [
    "Starting off with a scatterplot, this will give us an idea of the range of years each game has been released in and what each game made in sales across all regions. There also seems to be a relatively dense cluster (or higher peaks) of higher profits for a game between the year 2005 - 2016, but for the campaign, let's go forward with the few recent years from 2012 until latest."
   ]
  },
  {
   "cell_type": "code",
   "execution_count": 28,
   "metadata": {},
   "outputs": [
    {
     "data": {
      "image/png": "[encoded data removed]",
      "text/plain": [
       "<Figure size 720x288 with 1 Axes>"
      ]
     },
     "metadata": {
      "needs_background": "light"
     },
     "output_type": "display_data"
    }
   ],
   "source": [
    "df.plot(x='year_of_release', y='sum_sales', kind='scatter', figsize=[10, 4])\n",
    "plt.show()"
   ]
  },
  {
   "cell_type": "code",
   "execution_count": 29,
   "metadata": {},
   "outputs": [
    {
     "data": {
      "image/png": "[encoded data removed]",
      "text/plain": [
       "<Figure size 720x432 with 1 Axes>"
      ]
     },
     "metadata": {
      "needs_background": "light"
     },
     "output_type": "display_data"
    }
   ],
   "source": [
    "gaming_era = df[df['year_of_release'] >= 2012]\n",
    "game_yr = gaming_era['year_of_release'].value_counts(ascending=True)\n",
    "\n",
    "game_yr.plot(figsize=(10,6), kind='bar', stacked=True)\n",
    "plt.xlabel('Year')\n",
    "plt.ylabel('Number of Games')\n",
    "plt.title('Number of Games per Year by Game')\n",
    "plt.grid(axis='y', linestyle='--', alpha=0.7)\n",
    "plt.xticks(rotation=45)\n",
    "plt.show()"
   ]
  },
  {
   "cell_type": "code",
   "execution_count": 30,
   "metadata": {},
   "outputs": [
    {
     "data": {
      "text/html": [
       "<div>\n",
       "<style scoped>\n",
       "    .dataframe tbody tr th:only-of-type {\n",
       "        vertical-align: middle;\n",
       "    }\n",
       "\n",
       "    .dataframe tbody tr th {\n",
       "        vertical-align: top;\n",
       "    }\n",
       "\n",
       "    .dataframe thead th {\n",
       "        text-align: right;\n",
       "    }\n",
       "</style>\n",
       "<table border=\"1\" class=\"dataframe\">\n",
       "  <thead>\n",
       "    <tr style=\"text-align: right;\">\n",
       "      <th></th>\n",
       "      <th>name</th>\n",
       "      <th>platform</th>\n",
       "      <th>year_of_release</th>\n",
       "      <th>genre</th>\n",
       "      <th>na_sales</th>\n",
       "      <th>eu_sales</th>\n",
       "      <th>jp_sales</th>\n",
       "      <th>other_sales</th>\n",
       "      <th>critic_score</th>\n",
       "      <th>user_score</th>\n",
       "      <th>rating</th>\n",
       "      <th>sum_sales</th>\n",
       "    </tr>\n",
       "  </thead>\n",
       "  <tbody>\n",
       "    <tr>\n",
       "      <th>2946</th>\n",
       "      <td>The LEGO Movie Videogame</td>\n",
       "      <td>3DS</td>\n",
       "      <td>2014.0</td>\n",
       "      <td>Action</td>\n",
       "      <td>0.28</td>\n",
       "      <td>0.31</td>\n",
       "      <td>0.05</td>\n",
       "      <td>0.05</td>\n",
       "      <td>0.0</td>\n",
       "      <td>5.4</td>\n",
       "      <td>E10+</td>\n",
       "      <td>0.69</td>\n",
       "    </tr>\n",
       "    <tr>\n",
       "      <th>1168</th>\n",
       "      <td>Kingdom Hearts 3D: Dream Drop Distance</td>\n",
       "      <td>3DS</td>\n",
       "      <td>2012.0</td>\n",
       "      <td>Action</td>\n",
       "      <td>0.88</td>\n",
       "      <td>0.26</td>\n",
       "      <td>0.34</td>\n",
       "      <td>0.10</td>\n",
       "      <td>75.0</td>\n",
       "      <td>8.2</td>\n",
       "      <td>E10+</td>\n",
       "      <td>1.58</td>\n",
       "    </tr>\n",
       "    <tr>\n",
       "      <th>7662</th>\n",
       "      <td>Dungeon Hunter Alliance</td>\n",
       "      <td>PSV</td>\n",
       "      <td>2012.0</td>\n",
       "      <td>Action</td>\n",
       "      <td>0.07</td>\n",
       "      <td>0.09</td>\n",
       "      <td>0.00</td>\n",
       "      <td>0.03</td>\n",
       "      <td>49.0</td>\n",
       "      <td>6.4</td>\n",
       "      <td>T</td>\n",
       "      <td>0.19</td>\n",
       "    </tr>\n",
       "    <tr>\n",
       "      <th>2718</th>\n",
       "      <td>Titanfall 2</td>\n",
       "      <td>PS4</td>\n",
       "      <td>2016.0</td>\n",
       "      <td>Shooter</td>\n",
       "      <td>0.34</td>\n",
       "      <td>0.25</td>\n",
       "      <td>0.05</td>\n",
       "      <td>0.12</td>\n",
       "      <td>89.0</td>\n",
       "      <td>8.4</td>\n",
       "      <td>M</td>\n",
       "      <td>0.76</td>\n",
       "    </tr>\n",
       "    <tr>\n",
       "      <th>5689</th>\n",
       "      <td>LEGO Marvel's Avengers</td>\n",
       "      <td>X360</td>\n",
       "      <td>2016.0</td>\n",
       "      <td>Action</td>\n",
       "      <td>0.18</td>\n",
       "      <td>0.11</td>\n",
       "      <td>0.00</td>\n",
       "      <td>0.03</td>\n",
       "      <td>0.0</td>\n",
       "      <td>5.7</td>\n",
       "      <td>E10+</td>\n",
       "      <td>0.32</td>\n",
       "    </tr>\n",
       "    <tr>\n",
       "      <th>449</th>\n",
       "      <td>Resident Evil 6</td>\n",
       "      <td>PS3</td>\n",
       "      <td>2012.0</td>\n",
       "      <td>Shooter</td>\n",
       "      <td>0.88</td>\n",
       "      <td>0.94</td>\n",
       "      <td>0.88</td>\n",
       "      <td>0.40</td>\n",
       "      <td>74.0</td>\n",
       "      <td>5.4</td>\n",
       "      <td>M</td>\n",
       "      <td>3.10</td>\n",
       "    </tr>\n",
       "    <tr>\n",
       "      <th>2603</th>\n",
       "      <td>Rare Replay</td>\n",
       "      <td>XOne</td>\n",
       "      <td>2015.0</td>\n",
       "      <td>Misc</td>\n",
       "      <td>0.49</td>\n",
       "      <td>0.22</td>\n",
       "      <td>0.01</td>\n",
       "      <td>0.07</td>\n",
       "      <td>84.0</td>\n",
       "      <td>7.7</td>\n",
       "      <td>M</td>\n",
       "      <td>0.79</td>\n",
       "    </tr>\n",
       "    <tr>\n",
       "      <th>1721</th>\n",
       "      <td>Resident Evil: Operation Raccoon City</td>\n",
       "      <td>PS3</td>\n",
       "      <td>2012.0</td>\n",
       "      <td>Action</td>\n",
       "      <td>0.48</td>\n",
       "      <td>0.24</td>\n",
       "      <td>0.36</td>\n",
       "      <td>0.10</td>\n",
       "      <td>52.0</td>\n",
       "      <td>4.9</td>\n",
       "      <td>M</td>\n",
       "      <td>1.18</td>\n",
       "    </tr>\n",
       "    <tr>\n",
       "      <th>9852</th>\n",
       "      <td>Tony Hawk's Pro Skater 5</td>\n",
       "      <td>XOne</td>\n",
       "      <td>2015.0</td>\n",
       "      <td>Sports</td>\n",
       "      <td>0.09</td>\n",
       "      <td>0.02</td>\n",
       "      <td>0.00</td>\n",
       "      <td>0.01</td>\n",
       "      <td>39.0</td>\n",
       "      <td>2.1</td>\n",
       "      <td>T</td>\n",
       "      <td>0.12</td>\n",
       "    </tr>\n",
       "    <tr>\n",
       "      <th>3296</th>\n",
       "      <td>Tearaway</td>\n",
       "      <td>PSV</td>\n",
       "      <td>2013.0</td>\n",
       "      <td>Adventure</td>\n",
       "      <td>0.14</td>\n",
       "      <td>0.34</td>\n",
       "      <td>0.00</td>\n",
       "      <td>0.14</td>\n",
       "      <td>87.0</td>\n",
       "      <td>8.9</td>\n",
       "      <td>E</td>\n",
       "      <td>0.62</td>\n",
       "    </tr>\n",
       "  </tbody>\n",
       "</table>\n",
       "</div>"
      ],
      "text/plain": [
       "                                        name platform  year_of_release  \\\n",
       "2946                The LEGO Movie Videogame      3DS           2014.0   \n",
       "1168  Kingdom Hearts 3D: Dream Drop Distance      3DS           2012.0   \n",
       "7662                 Dungeon Hunter Alliance      PSV           2012.0   \n",
       "2718                             Titanfall 2      PS4           2016.0   \n",
       "5689                  LEGO Marvel's Avengers     X360           2016.0   \n",
       "449                          Resident Evil 6      PS3           2012.0   \n",
       "2603                             Rare Replay     XOne           2015.0   \n",
       "1721   Resident Evil: Operation Raccoon City      PS3           2012.0   \n",
       "9852                Tony Hawk's Pro Skater 5     XOne           2015.0   \n",
       "3296                                Tearaway      PSV           2013.0   \n",
       "\n",
       "          genre  na_sales  eu_sales  jp_sales  other_sales  critic_score  \\\n",
       "2946     Action      0.28      0.31      0.05         0.05           0.0   \n",
       "1168     Action      0.88      0.26      0.34         0.10          75.0   \n",
       "7662     Action      0.07      0.09      0.00         0.03          49.0   \n",
       "2718    Shooter      0.34      0.25      0.05         0.12          89.0   \n",
       "5689     Action      0.18      0.11      0.00         0.03           0.0   \n",
       "449     Shooter      0.88      0.94      0.88         0.40          74.0   \n",
       "2603       Misc      0.49      0.22      0.01         0.07          84.0   \n",
       "1721     Action      0.48      0.24      0.36         0.10          52.0   \n",
       "9852     Sports      0.09      0.02      0.00         0.01          39.0   \n",
       "3296  Adventure      0.14      0.34      0.00         0.14          87.0   \n",
       "\n",
       "      user_score rating  sum_sales  \n",
       "2946         5.4   E10+       0.69  \n",
       "1168         8.2   E10+       1.58  \n",
       "7662         6.4      T       0.19  \n",
       "2718         8.4      M       0.76  \n",
       "5689         5.7   E10+       0.32  \n",
       "449          5.4      M       3.10  \n",
       "2603         7.7      M       0.79  \n",
       "1721         4.9      M       1.18  \n",
       "9852         2.1      T       0.12  \n",
       "3296         8.9      E       0.62  "
      ]
     },
     "execution_count": 30,
     "metadata": {},
     "output_type": "execute_result"
    }
   ],
   "source": [
    "gaming_era.sample(10)"
   ]
  },
  {
   "cell_type": "markdown",
   "metadata": {},
   "source": [
    "# Let's explore which platforms had the greatest total sales and the ones with the least (or now has 0) sales."
   ]
  },
  {
   "cell_type": "markdown",
   "metadata": {},
   "source": [
    "## Top Selling Platforms"
   ]
  },
  {
   "cell_type": "code",
   "execution_count": 31,
   "metadata": {},
   "outputs": [
    {
     "data": {
      "text/plain": [
       "platform\n",
       "PS2     1044.25\n",
       "X360     900.39\n",
       "PS3      837.39\n",
       "Name: sum_sales, dtype: float64"
      ]
     },
     "execution_count": 31,
     "metadata": {},
     "output_type": "execute_result"
    }
   ],
   "source": [
    "top_selling_games = df.groupby('platform')['sum_sales'].sum().sort_values(ascending=False).head(3)\n",
    "top_selling_games"
   ]
  },
  {
   "cell_type": "code",
   "execution_count": 32,
   "metadata": {},
   "outputs": [
    {
     "name": "stdout",
     "output_type": "stream",
     "text": [
      "PS2 has made a total of $1044.25 dollars in the past few decades until now\n",
      "X360 has made a total of $900.39 million dollars in the past few decades until now\n",
      "PS3 has made a total of $837.39 million dollars in the past few decades until now\n"
     ]
    },
    {
     "data": {
      "image/png": "[encoded data removed]",
      "text/plain": [
       "<Figure size 720x288 with 1 Axes>"
      ]
     },
     "metadata": {
      "needs_background": "light"
     },
     "output_type": "display_data"
    },
    {
     "data": {
      "image/png": "[encoded data removed]",
      "text/plain": [
       "<Figure size 720x288 with 1 Axes>"
      ]
     },
     "metadata": {
      "needs_background": "light"
     },
     "output_type": "display_data"
    },
    {
     "data": {
      "image/png": "[encoded data removed]",
      "text/plain": [
       "<Figure size 720x288 with 1 Axes>"
      ]
     },
     "metadata": {
      "needs_background": "light"
     },
     "output_type": "display_data"
    }
   ],
   "source": [
    "#PS2 Platform\n",
    "\n",
    "ps2_sales = df[df['platform'] == 'PS2']\n",
    "ps2_sum_sales = ps2_sales['sum_sales'].sum()\n",
    "print(f'PS2 has made a total of ${ps2_sum_sales} dollars in the past few decades until now')\n",
    "\n",
    "ps2_hist = df[df['platform'] == 'PS2']\n",
    "ps2_hist.plot(x='year_of_release', y='sum_sales', kind='scatter', figsize=[10, 4])\n",
    "\n",
    "\n",
    "\n",
    "#X360 Platform\n",
    "\n",
    "x360_sales = df[df['platform'] == 'X360']\n",
    "x360_sum_sales = x360_sales['sum_sales'].sum()\n",
    "print(f'X360 has made a total of ${x360_sum_sales:.2f} million dollars in the past few decades until now')\n",
    "\n",
    "x360_hist = df[df['platform'] == 'X360']\n",
    "x360_hist.plot(x='year_of_release', y='sum_sales', kind='scatter', figsize=[10, 4])\n",
    "\n",
    "\n",
    "\n",
    "#PS3 Platform\n",
    "\n",
    "ps3_sales = df[df['platform'] == 'PS3']\n",
    "ps3_sum_sales = ps3_sales['sum_sales'].sum()\n",
    "print(f'PS3 has made a total of ${ps3_sum_sales:.2f} million dollars in the past few decades until now')\n",
    "\n",
    "ps3_hist = df[df['platform'] == 'PS3']\n",
    "ps3_hist.plot(x='year_of_release', y='sum_sales', kind='scatter', figsize=[10, 4])\n",
    "\n",
    "plt.show()"
   ]
  },
  {
   "cell_type": "markdown",
   "metadata": {},
   "source": [
    "## Least selling platforms"
   ]
  },
  {
   "cell_type": "markdown",
   "metadata": {},
   "source": [
    "It seems like the least selling platforms are defintely making hardly less than a million after a few years of competition. This could be due to discontinuing the platform all together due to the times or an upgraded model replaced it to even regional based popularity since maybe one or two regions loved it and the others weren't excited for it."
   ]
  },
  {
   "cell_type": "code",
   "execution_count": 33,
   "metadata": {},
   "outputs": [
    {
     "data": {
      "text/plain": [
       "platform\n",
       "DC       4.55\n",
       "PSV     34.67\n",
       "WiiU    67.61\n",
       "Name: sum_sales, dtype: float64"
      ]
     },
     "execution_count": 33,
     "metadata": {},
     "output_type": "execute_result"
    }
   ],
   "source": [
    "bottom_selling_games = df.groupby('platform')['sum_sales'].sum().sort_values(ascending=True).head(3)\n",
    "bottom_selling_games"
   ]
  },
  {
   "cell_type": "code",
   "execution_count": 34,
   "metadata": {},
   "outputs": [
    {
     "name": "stdout",
     "output_type": "stream",
     "text": [
      "DC has made a total of $4.55 million dollars in the past few decades until now\n",
      "PSV has made a total of $34.67 million dollars in the past few decades until now\n",
      "WiiU has made a total of $67.61 million dollars in the past few decades until now\n"
     ]
    }
   ],
   "source": [
    "#DC Platform\n",
    "\n",
    "dc_sales = df[df['platform'] == 'DC']\n",
    "dc_sum_sales = dc_sales['sum_sales'].sum()\n",
    "print(f'DC has made a total of ${dc_sum_sales:.2f} million dollars in the past few decades until now')\n",
    "\n",
    "#PSV Platform\n",
    "\n",
    "psv_sales = df[df['platform'] == 'PSV']\n",
    "psv_sum_sales = psv_sales['sum_sales'].sum()\n",
    "print(f'PSV has made a total of ${psv_sum_sales:.2f} million dollars in the past few decades until now')\n",
    "\n",
    "#WiiU Platform\n",
    "\n",
    "wiiU_sales = df[df['platform'] == 'WiiU']\n",
    "wiiU_sum_sales = wiiU_sales['sum_sales'].sum()\n",
    "print(f'WiiU has made a total of ${wiiU_sum_sales:.2f} million dollars in the past few decades until now')"
   ]
  },
  {
   "cell_type": "markdown",
   "metadata": {},
   "source": [
    "# Narrowing & Forecasting the Data"
   ]
  },
  {
   "cell_type": "markdown",
   "metadata": {},
   "source": [
    "Now that we spent some time analyzing the overall elements of the data, we can now narrow the data to a specific time frame to closely identify patterns that could help determine a game's success or not. I considered the previous decade of games, between 2006-2016, as a solid framework to dive further into in order to create a 2017 forecast model."
   ]
  },
  {
   "cell_type": "code",
   "execution_count": 35,
   "metadata": {
    "scrolled": true
   },
   "outputs": [
    {
     "data": {
      "text/html": [
       "<div>\n",
       "<style scoped>\n",
       "    .dataframe tbody tr th:only-of-type {\n",
       "        vertical-align: middle;\n",
       "    }\n",
       "\n",
       "    .dataframe tbody tr th {\n",
       "        vertical-align: top;\n",
       "    }\n",
       "\n",
       "    .dataframe thead th {\n",
       "        text-align: right;\n",
       "    }\n",
       "</style>\n",
       "<table border=\"1\" class=\"dataframe\">\n",
       "  <thead>\n",
       "    <tr style=\"text-align: right;\">\n",
       "      <th></th>\n",
       "      <th>name</th>\n",
       "      <th>platform</th>\n",
       "      <th>year_of_release</th>\n",
       "      <th>genre</th>\n",
       "      <th>na_sales</th>\n",
       "      <th>eu_sales</th>\n",
       "      <th>jp_sales</th>\n",
       "      <th>other_sales</th>\n",
       "      <th>critic_score</th>\n",
       "      <th>user_score</th>\n",
       "      <th>rating</th>\n",
       "      <th>sum_sales</th>\n",
       "    </tr>\n",
       "  </thead>\n",
       "  <tbody>\n",
       "    <tr>\n",
       "      <th>235</th>\n",
       "      <td>Luigi's Mansion: Dark Moon</td>\n",
       "      <td>3DS</td>\n",
       "      <td>2013.0</td>\n",
       "      <td>Action</td>\n",
       "      <td>1.80</td>\n",
       "      <td>1.39</td>\n",
       "      <td>1.11</td>\n",
       "      <td>0.29</td>\n",
       "      <td>86.0</td>\n",
       "      <td>8.4</td>\n",
       "      <td>E</td>\n",
       "      <td>4.59</td>\n",
       "    </tr>\n",
       "    <tr>\n",
       "      <th>16300</th>\n",
       "      <td>Barbie and Her Sisters Puppy Rescue</td>\n",
       "      <td>WiiU</td>\n",
       "      <td>2015.0</td>\n",
       "      <td>Action</td>\n",
       "      <td>0.00</td>\n",
       "      <td>0.01</td>\n",
       "      <td>0.00</td>\n",
       "      <td>0.00</td>\n",
       "      <td>0.0</td>\n",
       "      <td>2.8</td>\n",
       "      <td>E</td>\n",
       "      <td>0.01</td>\n",
       "    </tr>\n",
       "    <tr>\n",
       "      <th>3453</th>\n",
       "      <td>Shin Megami Tensei IV</td>\n",
       "      <td>3DS</td>\n",
       "      <td>2013.0</td>\n",
       "      <td>Role-Playing</td>\n",
       "      <td>0.28</td>\n",
       "      <td>0.00</td>\n",
       "      <td>0.27</td>\n",
       "      <td>0.03</td>\n",
       "      <td>83.0</td>\n",
       "      <td>8.3</td>\n",
       "      <td>M</td>\n",
       "      <td>0.58</td>\n",
       "    </tr>\n",
       "    <tr>\n",
       "      <th>127</th>\n",
       "      <td>Assassin's Creed III</td>\n",
       "      <td>PS3</td>\n",
       "      <td>2012.0</td>\n",
       "      <td>Action</td>\n",
       "      <td>2.64</td>\n",
       "      <td>2.52</td>\n",
       "      <td>0.16</td>\n",
       "      <td>1.12</td>\n",
       "      <td>85.0</td>\n",
       "      <td>6.9</td>\n",
       "      <td>M</td>\n",
       "      <td>6.44</td>\n",
       "    </tr>\n",
       "    <tr>\n",
       "      <th>7945</th>\n",
       "      <td>Pro Evolution Soccer 2014</td>\n",
       "      <td>3DS</td>\n",
       "      <td>2013.0</td>\n",
       "      <td>Action</td>\n",
       "      <td>0.00</td>\n",
       "      <td>0.00</td>\n",
       "      <td>0.19</td>\n",
       "      <td>0.00</td>\n",
       "      <td>0.0</td>\n",
       "      <td>0.0</td>\n",
       "      <td>E</td>\n",
       "      <td>0.19</td>\n",
       "    </tr>\n",
       "    <tr>\n",
       "      <th>8607</th>\n",
       "      <td>Angry Birds Star Wars</td>\n",
       "      <td>XOne</td>\n",
       "      <td>2013.0</td>\n",
       "      <td>Strategy</td>\n",
       "      <td>0.11</td>\n",
       "      <td>0.04</td>\n",
       "      <td>0.00</td>\n",
       "      <td>0.02</td>\n",
       "      <td>53.0</td>\n",
       "      <td>6.9</td>\n",
       "      <td>E</td>\n",
       "      <td>0.17</td>\n",
       "    </tr>\n",
       "    <tr>\n",
       "      <th>11817</th>\n",
       "      <td>Escape Dead Island</td>\n",
       "      <td>PS3</td>\n",
       "      <td>2014.0</td>\n",
       "      <td>Action</td>\n",
       "      <td>0.04</td>\n",
       "      <td>0.03</td>\n",
       "      <td>0.00</td>\n",
       "      <td>0.01</td>\n",
       "      <td>40.0</td>\n",
       "      <td>3.5</td>\n",
       "      <td>M</td>\n",
       "      <td>0.08</td>\n",
       "    </tr>\n",
       "    <tr>\n",
       "      <th>2012</th>\n",
       "      <td>The Legend of Zelda: Twilight Princess HD</td>\n",
       "      <td>WiiU</td>\n",
       "      <td>2016.0</td>\n",
       "      <td>Action</td>\n",
       "      <td>0.56</td>\n",
       "      <td>0.30</td>\n",
       "      <td>0.08</td>\n",
       "      <td>0.09</td>\n",
       "      <td>86.0</td>\n",
       "      <td>8.4</td>\n",
       "      <td>T</td>\n",
       "      <td>1.03</td>\n",
       "    </tr>\n",
       "    <tr>\n",
       "      <th>12776</th>\n",
       "      <td>Tokyo Twilight Ghost Hunters</td>\n",
       "      <td>PS3</td>\n",
       "      <td>2014.0</td>\n",
       "      <td>Role-Playing</td>\n",
       "      <td>0.03</td>\n",
       "      <td>0.00</td>\n",
       "      <td>0.02</td>\n",
       "      <td>0.01</td>\n",
       "      <td>64.0</td>\n",
       "      <td>6.4</td>\n",
       "      <td>T</td>\n",
       "      <td>0.06</td>\n",
       "    </tr>\n",
       "    <tr>\n",
       "      <th>10647</th>\n",
       "      <td>Murdered: Soul Suspect</td>\n",
       "      <td>X360</td>\n",
       "      <td>2014.0</td>\n",
       "      <td>Action</td>\n",
       "      <td>0.06</td>\n",
       "      <td>0.03</td>\n",
       "      <td>0.00</td>\n",
       "      <td>0.01</td>\n",
       "      <td>0.0</td>\n",
       "      <td>7.2</td>\n",
       "      <td>M</td>\n",
       "      <td>0.10</td>\n",
       "    </tr>\n",
       "  </tbody>\n",
       "</table>\n",
       "</div>"
      ],
      "text/plain": [
       "                                            name platform  year_of_release  \\\n",
       "235                   Luigi's Mansion: Dark Moon      3DS           2013.0   \n",
       "16300        Barbie and Her Sisters Puppy Rescue     WiiU           2015.0   \n",
       "3453                       Shin Megami Tensei IV      3DS           2013.0   \n",
       "127                         Assassin's Creed III      PS3           2012.0   \n",
       "7945                   Pro Evolution Soccer 2014      3DS           2013.0   \n",
       "8607                       Angry Birds Star Wars     XOne           2013.0   \n",
       "11817                         Escape Dead Island      PS3           2014.0   \n",
       "2012   The Legend of Zelda: Twilight Princess HD     WiiU           2016.0   \n",
       "12776               Tokyo Twilight Ghost Hunters      PS3           2014.0   \n",
       "10647                     Murdered: Soul Suspect     X360           2014.0   \n",
       "\n",
       "              genre  na_sales  eu_sales  jp_sales  other_sales  critic_score  \\\n",
       "235          Action      1.80      1.39      1.11         0.29          86.0   \n",
       "16300        Action      0.00      0.01      0.00         0.00           0.0   \n",
       "3453   Role-Playing      0.28      0.00      0.27         0.03          83.0   \n",
       "127          Action      2.64      2.52      0.16         1.12          85.0   \n",
       "7945         Action      0.00      0.00      0.19         0.00           0.0   \n",
       "8607       Strategy      0.11      0.04      0.00         0.02          53.0   \n",
       "11817        Action      0.04      0.03      0.00         0.01          40.0   \n",
       "2012         Action      0.56      0.30      0.08         0.09          86.0   \n",
       "12776  Role-Playing      0.03      0.00      0.02         0.01          64.0   \n",
       "10647        Action      0.06      0.03      0.00         0.01           0.0   \n",
       "\n",
       "       user_score rating  sum_sales  \n",
       "235           8.4      E       4.59  \n",
       "16300         2.8      E       0.01  \n",
       "3453          8.3      M       0.58  \n",
       "127           6.9      M       6.44  \n",
       "7945          0.0      E       0.19  \n",
       "8607          6.9      E       0.17  \n",
       "11817         3.5      M       0.08  \n",
       "2012          8.4      T       1.03  \n",
       "12776         6.4      T       0.06  \n",
       "10647         7.2      M       0.10  "
      ]
     },
     "execution_count": 35,
     "metadata": {},
     "output_type": "execute_result"
    }
   ],
   "source": [
    "campaign_range = df[df['year_of_release'] >=2012]\n",
    "campaign_range.sample(10)"
   ]
  },
  {
   "cell_type": "code",
   "execution_count": 36,
   "metadata": {
    "scrolled": true
   },
   "outputs": [
    {
     "name": "stdout",
     "output_type": "stream",
     "text": [
      "<class 'pandas.core.frame.DataFrame'>\n",
      "Int64Index: 1611 entries, 16 to 16692\n",
      "Data columns (total 12 columns):\n",
      " #   Column           Non-Null Count  Dtype  \n",
      "---  ------           --------------  -----  \n",
      " 0   name             1611 non-null   object \n",
      " 1   platform         1611 non-null   object \n",
      " 2   year_of_release  1611 non-null   float64\n",
      " 3   genre            1611 non-null   object \n",
      " 4   na_sales         1611 non-null   float64\n",
      " 5   eu_sales         1611 non-null   float64\n",
      " 6   jp_sales         1611 non-null   float64\n",
      " 7   other_sales      1611 non-null   float64\n",
      " 8   critic_score     1611 non-null   float64\n",
      " 9   user_score       1611 non-null   float64\n",
      " 10  rating           1611 non-null   object \n",
      " 11  sum_sales        1611 non-null   float64\n",
      "dtypes: float64(8), object(4)\n",
      "memory usage: 163.6+ KB\n"
     ]
    }
   ],
   "source": [
    "campaign_range.info()"
   ]
  },
  {
   "cell_type": "code",
   "execution_count": 37,
   "metadata": {},
   "outputs": [
    {
     "name": "stdout",
     "output_type": "stream",
     "text": [
      "This leaves us with 1611 rows worth of data narrowed down to:\n",
      "> 771 unique titles\n",
      "> 11 unique platforms\n",
      "> 12 unique genres\n"
     ]
    }
   ],
   "source": [
    "title = campaign_range['name'].nunique()\n",
    "platform = campaign_range['platform'].nunique()\n",
    "genre = campaign_range['genre'].nunique()\n",
    "campaign_shape = campaign_range.shape\n",
    "\n",
    "print(f'This leaves us with {campaign_shape[0]} rows worth of data narrowed down to:')\n",
    "print(f'> {title} unique titles')\n",
    "print(f'> {platform} unique platforms')\n",
    "print(f'> {genre} unique genres')"
   ]
  },
  {
   "cell_type": "markdown",
   "metadata": {},
   "source": [
    "# Which platforms are leading in sales? Which ones are growing or shrinking?"
   ]
  },
  {
   "cell_type": "code",
   "execution_count": 38,
   "metadata": {},
   "outputs": [
    {
     "data": {
      "text/plain": [
       "platform\n",
       "PS3     247.90\n",
       "PS4     245.94\n",
       "X360    213.12\n",
       "XOne    134.06\n",
       "3DS      85.56\n",
       "Name: sum_sales, dtype: float64"
      ]
     },
     "execution_count": 38,
     "metadata": {},
     "output_type": "execute_result"
    }
   ],
   "source": [
    "top_selling_games = campaign_range.groupby('platform')['sum_sales'].sum().sort_values(ascending=False).head()\n",
    "top_selling_games"
   ]
  },
  {
   "cell_type": "code",
   "execution_count": 39,
   "metadata": {},
   "outputs": [
    {
     "data": {
      "text/plain": [
       "platform\n",
       "PSP     1.32\n",
       "DS      3.37\n",
       "PSV    30.79\n",
       "Wii    31.09\n",
       "PC     54.95\n",
       "Name: sum_sales, dtype: float64"
      ]
     },
     "execution_count": 39,
     "metadata": {},
     "output_type": "execute_result"
    }
   ],
   "source": [
    "bottom_selling_games = campaign_range.groupby('platform')['sum_sales'].sum().sort_values(ascending=True).head()\n",
    "bottom_selling_games"
   ]
  },
  {
   "cell_type": "markdown",
   "metadata": {},
   "source": [
    "# Build a box plot for the global sales of all games, broken down by platform. Are the differences in sales significant? What about average sales on various platforms?"
   ]
  },
  {
   "cell_type": "code",
   "execution_count": 40,
   "metadata": {
    "scrolled": false
   },
   "outputs": [
    {
     "data": {
      "image/png": "[encoded data removed]",
      "text/plain": [
       "<Figure size 432x288 with 1 Axes>"
      ]
     },
     "metadata": {
      "needs_background": "light"
     },
     "output_type": "display_data"
    },
    {
     "data": {
      "text/plain": [
       "<Figure size 720x1440 with 0 Axes>"
      ]
     },
     "metadata": {},
     "output_type": "display_data"
    }
   ],
   "source": [
    "campaign_range = df[df['year_of_release'] >=2012]\n",
    "\n",
    "ps3 = campaign_range[campaign_range['platform'] == 'PS3']['sum_sales'].sum()\n",
    "x360 = campaign_range[campaign_range['platform'] == 'X360']['sum_sales'].sum()\n",
    "wii = campaign_range[campaign_range['platform'] == 'Wii']['sum_sales'].sum()\n",
    "ds = campaign_range[campaign_range['platform'] == 'DS']['sum_sales'].sum()\n",
    "ps4 = campaign_range[campaign_range['platform'] == 'PS4']['sum_sales'].sum()\n",
    "\n",
    "g_platforms = [ps3, x360, wii, ds, ps4]\n",
    "plt.boxplot(g_platforms)\n",
    "#plt.xticks([1, 2, 3, 4, 5]['PS3', 'X360', 'Wii', 'DS', 'PS4'])\n",
    "plt.ylabel('sum_sales')\n",
    "fig = plt.figure(figsize=(10, 20))\n",
    "plt.show()\n",
    "\n",
    "#Idk why my boxplot isn't showing all the platforms I want displayed, need to come back to later and delete this comment"
   ]
  },
  {
   "cell_type": "markdown",
   "metadata": {},
   "source": [
    "# Game Reviews VS Sales"
   ]
  },
  {
   "cell_type": "markdown",
   "metadata": {},
   "source": [
    "If we were to analyze the potential influence both user and critic reviews may have on sales, particularly with the X360 platform, there seems to be neither a strong positive or negative correlation between both type of reviews versus sales. This is clearly shown, visually and also numerically with the correlation table as the relationship between the reviews versus sales range between 0.31 - 0.17 and thus closer to 0 than to 1 or -1."
   ]
  },
  {
   "cell_type": "code",
   "execution_count": 41,
   "metadata": {
    "scrolled": false
   },
   "outputs": [
    {
     "data": {
      "image/png": "[encoded data removed]",
      "text/plain": [
       "<Figure size 540x540 with 12 Axes>"
      ]
     },
     "metadata": {
      "needs_background": "light"
     },
     "output_type": "display_data"
    }
   ],
   "source": [
    "x360 = campaign_range[campaign_range['platform'] == 'X360']\n",
    "sns.pairplot(x360[['critic_score', 'user_score', 'sum_sales']])\n",
    "plt.show()"
   ]
  },
  {
   "cell_type": "code",
   "execution_count": 42,
   "metadata": {
    "scrolled": true
   },
   "outputs": [
    {
     "data": {
      "text/html": [
       "<div>\n",
       "<style scoped>\n",
       "    .dataframe tbody tr th:only-of-type {\n",
       "        vertical-align: middle;\n",
       "    }\n",
       "\n",
       "    .dataframe tbody tr th {\n",
       "        vertical-align: top;\n",
       "    }\n",
       "\n",
       "    .dataframe thead th {\n",
       "        text-align: right;\n",
       "    }\n",
       "</style>\n",
       "<table border=\"1\" class=\"dataframe\">\n",
       "  <thead>\n",
       "    <tr style=\"text-align: right;\">\n",
       "      <th></th>\n",
       "      <th>critic_score</th>\n",
       "      <th>user_score</th>\n",
       "      <th>sum_sales</th>\n",
       "    </tr>\n",
       "  </thead>\n",
       "  <tbody>\n",
       "    <tr>\n",
       "      <th>critic_score</th>\n",
       "      <td>1.000000</td>\n",
       "      <td>0.487589</td>\n",
       "      <td>0.271501</td>\n",
       "    </tr>\n",
       "    <tr>\n",
       "      <th>user_score</th>\n",
       "      <td>0.487589</td>\n",
       "      <td>1.000000</td>\n",
       "      <td>0.070149</td>\n",
       "    </tr>\n",
       "    <tr>\n",
       "      <th>sum_sales</th>\n",
       "      <td>0.271501</td>\n",
       "      <td>0.070149</td>\n",
       "      <td>1.000000</td>\n",
       "    </tr>\n",
       "  </tbody>\n",
       "</table>\n",
       "</div>"
      ],
      "text/plain": [
       "              critic_score  user_score  sum_sales\n",
       "critic_score      1.000000    0.487589   0.271501\n",
       "user_score        0.487589    1.000000   0.070149\n",
       "sum_sales         0.271501    0.070149   1.000000"
      ]
     },
     "execution_count": 42,
     "metadata": {},
     "output_type": "execute_result"
    }
   ],
   "source": [
    "x360[['critic_score', 'user_score', 'sum_sales']].corr()"
   ]
  },
  {
   "cell_type": "markdown",
   "metadata": {},
   "source": [
    "#  Take a look at the general distribution of games by genre. What can we say about the most profitable genres? Can you generalize about genres with high and low sales?"
   ]
  },
  {
   "cell_type": "markdown",
   "metadata": {},
   "source": [
    "Now, let's take a step back and see which genres has had the most games produced in the form of a bar graph because its clear that numerically it was **Action** earlier during our data wrangling, and before we refined our forecast data to 2012 - 2016. "
   ]
  },
  {
   "cell_type": "code",
   "execution_count": 43,
   "metadata": {
    "scrolled": false
   },
   "outputs": [
    {
     "data": {
      "image/png": "[encoded data removed]",
      "text/plain": [
       "<Figure size 720x432 with 1 Axes>"
      ]
     },
     "metadata": {
      "needs_background": "light"
     },
     "output_type": "display_data"
    }
   ],
   "source": [
    "genre = campaign_range['genre'].value_counts()\n",
    "genre\n",
    "\n",
    "genre.plot(figsize=(10,6), kind='bar', stacked=True)\n",
    "plt.xlabel('Genre')\n",
    "plt.ylabel('Number of Games')\n",
    "plt.title('Number of Games By Genre')\n",
    "plt.grid(axis='y', linestyle='--', alpha=0.7)\n",
    "plt.xticks(rotation=45)\n",
    "plt.show()"
   ]
  },
  {
   "cell_type": "markdown",
   "metadata": {},
   "source": [
    "Now in terms of sum of sales by genre, its evident, the **Shooter genre** has some reach in terms of reaching beyond, 3.5 million in sales without any outliers; although, the **Action genre** has clearly shown again that (just like the bar graph) it continues to be in first place as it has reached over 20 million in sales due to one outlier game."
   ]
  },
  {
   "cell_type": "code",
   "execution_count": 44,
   "metadata": {
    "scrolled": false
   },
   "outputs": [
    {
     "data": {
      "image/png": "[encoded data removed]",
      "text/plain": [
       "<Figure size 432x288 with 1 Axes>"
      ]
     },
     "metadata": {
      "needs_background": "light"
     },
     "output_type": "display_data"
    }
   ],
   "source": [
    "sns.boxplot(data=campaign_range, y='genre', x='sum_sales', showfliers=False)\n",
    "plt.xticks(rotation=45)\n",
    "plt.show()"
   ]
  },
  {
   "cell_type": "code",
   "execution_count": 45,
   "metadata": {
    "scrolled": false
   },
   "outputs": [
    {
     "data": {
      "image/png": "[encoded data removed]",
      "text/plain": [
       "<Figure size 432x288 with 1 Axes>"
      ]
     },
     "metadata": {
      "needs_background": "light"
     },
     "output_type": "display_data"
    }
   ],
   "source": [
    "sns.boxplot(data=campaign_range, y='genre', x='sum_sales', showfliers=True)\n",
    "plt.xticks(rotation=45)\n",
    "plt.show()"
   ]
  },
  {
   "cell_type": "markdown",
   "metadata": {},
   "source": [
    "Here are further comparisons of the sales by genre, with the former showcasing the total sales by genre and the latter showcasing the average sales by genre."
   ]
  },
  {
   "cell_type": "code",
   "execution_count": 46,
   "metadata": {},
   "outputs": [
    {
     "data": {
      "image/png": "[encoded data removed]",
      "text/plain": [
       "<Figure size 1440x432 with 1 Axes>"
      ]
     },
     "metadata": {
      "needs_background": "light"
     },
     "output_type": "display_data"
    }
   ],
   "source": [
    "sum_sales_genre = campaign_range.groupby('genre')['sum_sales'].sum().reset_index()\n",
    "\n",
    "plt.figure(figsize=(20, 6))\n",
    "sns.boxplot(data=sum_sales_genre, x='genre', y='sum_sales', showfliers=True)\n",
    "plt.title('Sum of Sales by Genre')\n",
    "plt.xlabel('Genre')\n",
    "plt.ylabel('Sales')\n",
    "plt.xticks(rotation=0)\n",
    "plt.show()"
   ]
  },
  {
   "cell_type": "code",
   "execution_count": 47,
   "metadata": {},
   "outputs": [
    {
     "data": {
      "image/png": "[encoded data removed]",
      "text/plain": [
       "<Figure size 1440x432 with 1 Axes>"
      ]
     },
     "metadata": {
      "needs_background": "light"
     },
     "output_type": "display_data"
    }
   ],
   "source": [
    "plt.figure(figsize=(20, 6))\n",
    "sns.boxplot(data=campaign_range, x='genre', y='sum_sales', showfliers=False)\n",
    "plt.title('Average Sales by Genre')\n",
    "plt.xlabel('Genre')\n",
    "plt.ylabel('Sales')\n",
    "plt.xticks(rotation=0)\n",
    "plt.show()"
   ]
  },
  {
   "cell_type": "markdown",
   "metadata": {},
   "source": [
    "# User profile for each region"
   ]
  },
  {
   "cell_type": "markdown",
   "metadata": {},
   "source": [
    "# Regional Platform Variations\n",
    "\n",
    "When comparing the different variations amongst the platforms for each region, Nintendo's DS platform is in each regions' top 3. Another Nintendo platform, Wii, is also top 3 for both Japanese and European regions. Yet interestingly, the Sony PS3 is in all regions Top 5, in the final placeholder."
   ]
  },
  {
   "cell_type": "markdown",
   "metadata": {},
   "source": [
    "# Japan's Platform Line-up"
   ]
  },
  {
   "cell_type": "code",
   "execution_count": 48,
   "metadata": {
    "scrolled": true
   },
   "outputs": [
    {
     "data": {
      "text/plain": [
       "jp_sales  platform\n",
       "0.0       PC          185\n",
       "          X360        178\n",
       "          XOne        168\n",
       "          PS4         125\n",
       "          PS3         118\n",
       "Name: platform, dtype: int64"
      ]
     },
     "execution_count": 48,
     "metadata": {},
     "output_type": "execute_result"
    }
   ],
   "source": [
    "jp_top_platforms = campaign_range.groupby(['jp_sales'])['platform'].value_counts().head()\n",
    "jp_top_platforms"
   ]
  },
  {
   "cell_type": "code",
   "execution_count": 49,
   "metadata": {
    "scrolled": false
   },
   "outputs": [
    {
     "data": {
      "image/png": "[encoded data removed]",
      "text/plain": [
       "<Figure size 576x576 with 1 Axes>"
      ]
     },
     "metadata": {},
     "output_type": "display_data"
    }
   ],
   "source": [
    "plt.figure(figsize=(8, 8))\n",
    "plt.pie(jp_top_platforms, labels=jp_top_platforms.index, autopct='%1.1f%%') #startangle=140\n",
    "plt.axis('equal')\n",
    "plt.title('Japan\\'s Top Gaming Platforms')\n",
    "plt.show()"
   ]
  },
  {
   "cell_type": "markdown",
   "metadata": {},
   "source": [
    "# Europe's Platform Line-up"
   ]
  },
  {
   "cell_type": "code",
   "execution_count": 50,
   "metadata": {
    "scrolled": true
   },
   "outputs": [
    {
     "data": {
      "text/plain": [
       "eu_sales  platform\n",
       "0.0       PS3         47\n",
       "          PS4         41\n",
       "          PSV         38\n",
       "          3DS         35\n",
       "          XOne        18\n",
       "Name: platform, dtype: int64"
      ]
     },
     "execution_count": 50,
     "metadata": {},
     "output_type": "execute_result"
    }
   ],
   "source": [
    "eu_top_platforms = campaign_range.groupby(['eu_sales'])['platform'].value_counts().head()\n",
    "eu_top_platforms"
   ]
  },
  {
   "cell_type": "code",
   "execution_count": 51,
   "metadata": {},
   "outputs": [
    {
     "data": {
      "image/png": "[encoded data removed]",
      "text/plain": [
       "<Figure size 576x576 with 1 Axes>"
      ]
     },
     "metadata": {},
     "output_type": "display_data"
    }
   ],
   "source": [
    "plt.figure(figsize=(8, 8))\n",
    "plt.pie(eu_top_platforms, labels=eu_top_platforms.index, autopct='%1.1f%%') #startangle=140\n",
    "plt.axis('equal')\n",
    "plt.title('Europe\\'s Top Gaming Platforms')\n",
    "plt.show()"
   ]
  },
  {
   "cell_type": "markdown",
   "metadata": {},
   "source": [
    "# North America's Platform Line-up"
   ]
  },
  {
   "cell_type": "code",
   "execution_count": 52,
   "metadata": {},
   "outputs": [
    {
     "data": {
      "text/plain": [
       "na_sales  platform\n",
       "0.0       PC          81\n",
       "          PSV         44\n",
       "          PS4         37\n",
       "          PS3         36\n",
       "          3DS         28\n",
       "Name: platform, dtype: int64"
      ]
     },
     "execution_count": 52,
     "metadata": {},
     "output_type": "execute_result"
    }
   ],
   "source": [
    "na_top_platforms = campaign_range.groupby(['na_sales'])['platform'].value_counts().head()\n",
    "na_top_platforms"
   ]
  },
  {
   "cell_type": "code",
   "execution_count": 53,
   "metadata": {},
   "outputs": [
    {
     "data": {
      "image/png": "[encoded data removed]",
      "text/plain": [
       "<Figure size 576x576 with 1 Axes>"
      ]
     },
     "metadata": {},
     "output_type": "display_data"
    }
   ],
   "source": [
    "plt.figure(figsize=(8, 8))\n",
    "plt.pie(na_top_platforms, labels=na_top_platforms.index, autopct='%1.1f%%') #startangle=140\n",
    "plt.axis('equal')\n",
    "plt.title('North America\\'s Top Gaming Platforms')\n",
    "plt.show()"
   ]
  },
  {
   "cell_type": "markdown",
   "metadata": {},
   "source": [
    "# Regional Genre Variations\n",
    "\n",
    "Reiging as the #1 champ for all regions is the **Action** genre, although all 3 regions also share **Sports & Misc** as another common genre in various placeholders, respectively. As for **Role-Playing & Adventure**, the European and North American Regions tends to favors this genre over Japan; however, maybe Japan has a lone preference for **Shooter**-based games"
   ]
  },
  {
   "cell_type": "markdown",
   "metadata": {},
   "source": [
    "# Japan's Genre Line-up"
   ]
  },
  {
   "cell_type": "code",
   "execution_count": 54,
   "metadata": {},
   "outputs": [
    {
     "data": {
      "text/plain": [
       "jp_sales  genre  \n",
       "0.0       Action     331\n",
       "          Sports     167\n",
       "          Shooter    121\n",
       "          Racing      66\n",
       "          Misc        61\n",
       "Name: genre, dtype: int64"
      ]
     },
     "execution_count": 54,
     "metadata": {},
     "output_type": "execute_result"
    }
   ],
   "source": [
    "jp_top_genres = campaign_range.groupby(['jp_sales'])['genre'].value_counts().head()\n",
    "jp_top_genres"
   ]
  },
  {
   "cell_type": "code",
   "execution_count": 55,
   "metadata": {},
   "outputs": [
    {
     "data": {
      "image/png": "[encoded data removed]",
      "text/plain": [
       "<Figure size 576x576 with 1 Axes>"
      ]
     },
     "metadata": {},
     "output_type": "display_data"
    }
   ],
   "source": [
    "plt.figure(figsize=(8, 8))\n",
    "plt.pie(jp_top_genres, labels=jp_top_genres.index, autopct='%1.1f%%') #startangle=140\n",
    "plt.axis('equal')\n",
    "plt.title('Japan\\'s Top Game Genres')\n",
    "plt.show()"
   ]
  },
  {
   "cell_type": "markdown",
   "metadata": {},
   "source": [
    "# Europe's Genre Line-up"
   ]
  },
  {
   "cell_type": "code",
   "execution_count": 56,
   "metadata": {
    "scrolled": true
   },
   "outputs": [
    {
     "data": {
      "text/plain": [
       "eu_sales  genre       \n",
       "0.0       Action          68\n",
       "          Role-Playing    34\n",
       "          Sports          27\n",
       "          Fighting        17\n",
       "          Adventure       14\n",
       "Name: genre, dtype: int64"
      ]
     },
     "execution_count": 56,
     "metadata": {},
     "output_type": "execute_result"
    }
   ],
   "source": [
    "eu_top_genres = campaign_range.groupby(['eu_sales'])['genre'].value_counts().head()\n",
    "eu_top_genres"
   ]
  },
  {
   "cell_type": "code",
   "execution_count": 57,
   "metadata": {},
   "outputs": [
    {
     "data": {
      "image/png": "[encoded data removed]",
      "text/plain": [
       "<Figure size 576x576 with 1 Axes>"
      ]
     },
     "metadata": {},
     "output_type": "display_data"
    }
   ],
   "source": [
    "plt.figure(figsize=(8, 8))\n",
    "plt.pie(eu_top_genres, labels=eu_top_genres.index, autopct='%1.1f%%') #startangle=140\n",
    "plt.axis('equal')\n",
    "plt.title('Europe\\'s Top Game Genres')\n",
    "plt.show()"
   ]
  },
  {
   "cell_type": "markdown",
   "metadata": {},
   "source": [
    "# North America's Genre Line-up"
   ]
  },
  {
   "cell_type": "code",
   "execution_count": 58,
   "metadata": {
    "scrolled": true
   },
   "outputs": [
    {
     "data": {
      "text/plain": [
       "na_sales  genre       \n",
       "0.0       Action          110\n",
       "          Sports           39\n",
       "          Role-Playing     34\n",
       "          Racing           23\n",
       "          Adventure        16\n",
       "Name: genre, dtype: int64"
      ]
     },
     "execution_count": 58,
     "metadata": {},
     "output_type": "execute_result"
    }
   ],
   "source": [
    "na_top_genres = campaign_range.groupby(['na_sales'])['genre'].value_counts().head()\n",
    "na_top_genres"
   ]
  },
  {
   "cell_type": "code",
   "execution_count": 59,
   "metadata": {},
   "outputs": [
    {
     "data": {
      "image/png": "[encoded data removed]",
      "text/plain": [
       "<Figure size 864x576 with 1 Axes>"
      ]
     },
     "metadata": {},
     "output_type": "display_data"
    }
   ],
   "source": [
    "plt.figure(figsize=(12, 8))\n",
    "plt.pie(na_top_genres, labels=na_top_genres.index, autopct='%1.1f%%') #startangle=140\n",
    "plt.axis('equal')\n",
    "plt.title('North America\\'s Top Game Genres')\n",
    "plt.show()"
   ]
  },
  {
   "cell_type": "markdown",
   "metadata": {},
   "source": [
    "# Regional Rating Variations\n",
    "\n",
    "The rating variations are quite interesting but not surprising given that the \"Rating Pending\" rating relatively had the most games titles out of all the genres. So its kind of expected that all regions had a portion of their games fall into the RP category. Although, Japan's region seems to have a more evenly distributed proportion amongst their top 4 categories that results in at least a 1,000 games in each rating available to each age demographic. Whereas, there's a somewhat decent pool of games each demographic can play for the European and N.American regions given most of their games, like Japan's, falls into the RP category. So I definitely think, the ratings does play a influential role in correlation to regional sales."
   ]
  },
  {
   "cell_type": "markdown",
   "metadata": {},
   "source": [
    "# Japan's Rating Line-up"
   ]
  },
  {
   "cell_type": "code",
   "execution_count": 60,
   "metadata": {
    "scrolled": true
   },
   "outputs": [
    {
     "data": {
      "text/plain": [
       "rating\n",
       "E       28.33\n",
       "E10+     8.19\n",
       "M       21.20\n",
       "T       26.02\n",
       "Name: jp_sales, dtype: float64"
      ]
     },
     "execution_count": 60,
     "metadata": {},
     "output_type": "execute_result"
    }
   ],
   "source": [
    "jp_top_rating = campaign_range.groupby(['rating'])['jp_sales'].sum()\n",
    "jp_top_rating"
   ]
  },
  {
   "cell_type": "code",
   "execution_count": 61,
   "metadata": {},
   "outputs": [
    {
     "data": {
      "image/png": "[encoded data removed]",
      "text/plain": [
       "<Figure size 864x576 with 1 Axes>"
      ]
     },
     "metadata": {},
     "output_type": "display_data"
    }
   ],
   "source": [
    "plt.figure(figsize=(12, 8))\n",
    "plt.pie(jp_top_rating, labels=jp_top_rating.index, autopct='%1.1f%%') #startangle=140\n",
    "plt.axis('equal')\n",
    "plt.title('Japan\\'s Top Game Ratings')\n",
    "plt.show()"
   ]
  },
  {
   "cell_type": "markdown",
   "metadata": {},
   "source": [
    "# Europe's Rating Line-up"
   ]
  },
  {
   "cell_type": "code",
   "execution_count": 62,
   "metadata": {},
   "outputs": [
    {
     "data": {
      "text/plain": [
       "rating\n",
       "E       113.03\n",
       "E10+     55.37\n",
       "M       193.96\n",
       "T        52.96\n",
       "Name: eu_sales, dtype: float64"
      ]
     },
     "execution_count": 62,
     "metadata": {},
     "output_type": "execute_result"
    }
   ],
   "source": [
    "eu_top_rating = campaign_range.groupby(['rating'])['eu_sales'].sum()\n",
    "eu_top_rating"
   ]
  },
  {
   "cell_type": "code",
   "execution_count": 63,
   "metadata": {},
   "outputs": [
    {
     "data": {
      "image/png": "[encoded data removed]",
      "text/plain": [
       "<Figure size 864x576 with 1 Axes>"
      ]
     },
     "metadata": {},
     "output_type": "display_data"
    }
   ],
   "source": [
    "plt.figure(figsize=(12, 8))\n",
    "plt.pie(eu_top_rating, labels=eu_top_rating.index, autopct='%1.1f%%', startangle=140)\n",
    "plt.axis('equal')\n",
    "plt.title('Europe\\'s Top Game Ratings')\n",
    "plt.show()"
   ]
  },
  {
   "cell_type": "markdown",
   "metadata": {},
   "source": [
    "# North America's Rating Line-up"
   ]
  },
  {
   "cell_type": "code",
   "execution_count": 64,
   "metadata": {
    "scrolled": true
   },
   "outputs": [
    {
     "data": {
      "text/plain": [
       "rating\n",
       "E       114.37\n",
       "E10+     75.70\n",
       "M       231.57\n",
       "T        66.02\n",
       "Name: na_sales, dtype: float64"
      ]
     },
     "execution_count": 64,
     "metadata": {},
     "output_type": "execute_result"
    }
   ],
   "source": [
    "na_top_rating = campaign_range.groupby(['rating'])['na_sales'].sum()\n",
    "na_top_rating"
   ]
  },
  {
   "cell_type": "code",
   "execution_count": 65,
   "metadata": {},
   "outputs": [
    {
     "data": {
      "image/png": "[encoded data removed]",
      "text/plain": [
       "<Figure size 864x576 with 1 Axes>"
      ]
     },
     "metadata": {},
     "output_type": "display_data"
    }
   ],
   "source": [
    "plt.figure(figsize=(12, 8))\n",
    "plt.pie(na_top_rating, labels=na_top_rating.index, autopct='%1.1f%%') #startangle=140\n",
    "plt.axis('equal')\n",
    "plt.title('North America\\'s Top Game Ratings')\n",
    "plt.show()"
   ]
  },
  {
   "cell_type": "markdown",
   "metadata": {},
   "source": [
    "# Test the Hypothesis"
   ]
  },
  {
   "cell_type": "markdown",
   "metadata": {},
   "source": [
    "Now lets test two hypotheses, with the notion **that two populations are equal to each other**:\n",
    "* Average user ratings of the Xbox One and PC platforms are the same.\n",
    "* Average user ratings for the Action and Sports genres are different.\n",
    "\n"
   ]
  },
  {
   "cell_type": "markdown",
   "metadata": {},
   "source": [
    "For the first test: Xbox == PC\n",
    "\n",
    "* I will denote the H₀ as both platform's average user ratings are the same.\n",
    "* I will denote the H₁ as both platform's average user ratings **are not the same**."
   ]
  },
  {
   "cell_type": "markdown",
   "metadata": {},
   "source": [
    "When comparing the two platform's user scores, the biggest, clear evidence was that XOne's had more a well-rounded score values compare to PC's user score values. PC's had 97 more 0 score values than XOne's pool of 0 user score values, that alone I think played more of a role with the imbalance PC had over XOne and thus resulting in the two to be **not equal, at all**. Therefore when I was considering the signifcance level, I figured if the results  is less than the p-value then its clear that one of the platforms is not equal to the other.\n",
    "\n",
    "This same notion can be also extended towards the second hypothesis, given that the values shown for their 0 user scores are so abundant, will lead me to believe that this we can **reject** the null hypothesis: the idea that they are the same. Despite my earlier impression, I'm surprised it was rejected especially since when we compared the regional genre line-up - action and sports were the two common genres across all regions."
   ]
  },
  {
   "cell_type": "code",
   "execution_count": 66,
   "metadata": {
    "scrolled": false
   },
   "outputs": [
    {
     "name": "stdout",
     "output_type": "stream",
     "text": [
      "p-value:  0.6580386274405442\n",
      "We can't reject the null hypothesis\n"
     ]
    }
   ],
   "source": [
    "xone = campaign_range[campaign_range['platform'] == 'XOne']['user_score']\n",
    "pc = campaign_range[campaign_range['platform'] == 'PC']['user_score']\n",
    "alpha = 0.05\n",
    "\n",
    "avg_equal_score = st.ttest_ind(xone, pc, equal_var = True)\n",
    "\n",
    "print('p-value: ', avg_equal_score.pvalue)\n",
    "\n",
    "if avg_equal_score.pvalue < alpha:\n",
    "    print(\"We reject the null hypothesis\")\n",
    "else:\n",
    "    print(\"We can't reject the null hypothesis\") "
   ]
  },
  {
   "cell_type": "markdown",
   "metadata": {},
   "source": [
    "For the second test: Action != Sports\n",
    "\n",
    "* I will denote the H₀ as both platform's average user ratings are the same.\n",
    "* I will denote the H₁ as both platform's average user ratings **are not the same**."
   ]
  },
  {
   "cell_type": "code",
   "execution_count": 67,
   "metadata": {},
   "outputs": [
    {
     "name": "stdout",
     "output_type": "stream",
     "text": [
      "p-value:  4.6143222057895024e-11\n",
      "We reject the null hypothesis\n"
     ]
    }
   ],
   "source": [
    "action = campaign_range[campaign_range['genre'] == 'Action']['user_score']\n",
    "sports = campaign_range[campaign_range['genre'] == 'Sports']['user_score']\n",
    "alpha = 0.05\n",
    "\n",
    "diff_avg_rating = st.ttest_ind(action, sports, equal_var = False)\n",
    "\n",
    "print('p-value: ', diff_avg_rating.pvalue)\n",
    "\n",
    "if diff_avg_rating.pvalue < alpha:\n",
    "    print(\"We reject the null hypothesis\")\n",
    "else:\n",
    "    print(\"We can't reject the null hypothesis\") "
   ]
  },
  {
   "cell_type": "markdown",
   "metadata": {},
   "source": [
    "# Conclusion"
   ]
  },
  {
   "cell_type": "markdown",
   "metadata": {},
   "source": [
    "All in all, my observation if put simply: if we were to pinpoint any potentionally big winners for 2017's forcasted advertising campaign, without a doubt, any **action-based game coming out on the Nintendo DS or X360 with a game rating between E for everyone or T for Teens** will more than likely have a fighting chance of success, across all regions."
   ]
  }
 ],
 "metadata": {
  "kernelspec": {
   "display_name": "Python 3 (ipykernel)",
   "language": "python",
   "name": "python3"
  },
  "language_info": {
   "codemirror_mode": {
    "name": "ipython",
    "version": 3
   },
   "file_extension": ".py",
   "mimetype": "text/x-python",
   "name": "python",
   "nbconvert_exporter": "python",
   "pygments_lexer": "ipython3",
   "version": "3.9.19"
  },
  "toc": {
   "base_numbering": 1,
   "nav_menu": {},
   "number_sections": true,
   "sideBar": true,
   "skip_h1_title": true,
   "title_cell": "Table of Contents",
   "title_sidebar": "Contents",
   "toc_cell": false,
   "toc_position": {},
   "toc_section_display": true,
   "toc_window_display": false
  }
 },
 "nbformat": 4,
 "nbformat_minor": 2
}
